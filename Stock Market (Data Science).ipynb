{
 "cells": [
  {
   "cell_type": "markdown",
   "id": "00d2b642",
   "metadata": {},
   "source": [
    "# Stock Market Prediction using stacked LSTM"
   ]
  },
  {
   "cell_type": "markdown",
   "id": "c0d601e1",
   "metadata": {},
   "source": [
    "###### Using Keras and Tensorflow "
   ]
  },
  {
   "cell_type": "code",
   "execution_count": 1,
   "id": "1ac051cd",
   "metadata": {},
   "outputs": [
    {
     "name": "stdout",
     "output_type": "stream",
     "text": [
      "Requirement already satisfied: pandas_datareader in c:\\users\\gupta\\appdata\\local\\programs\\python\\python311\\lib\\site-packages (0.10.0)\n",
      "Requirement already satisfied: lxml in c:\\users\\gupta\\appdata\\local\\programs\\python\\python311\\lib\\site-packages (from pandas_datareader) (4.9.2)\n",
      "Requirement already satisfied: pandas>=0.23 in c:\\users\\gupta\\appdata\\local\\programs\\python\\python311\\lib\\site-packages (from pandas_datareader) (2.0.0)\n",
      "Requirement already satisfied: requests>=2.19.0 in c:\\users\\gupta\\appdata\\local\\programs\\python\\python311\\lib\\site-packages (from pandas_datareader) (2.28.2)\n",
      "Requirement already satisfied: python-dateutil>=2.8.2 in c:\\users\\gupta\\appdata\\local\\programs\\python\\python311\\lib\\site-packages (from pandas>=0.23->pandas_datareader) (2.8.2)\n",
      "Requirement already satisfied: pytz>=2020.1 in c:\\users\\gupta\\appdata\\local\\programs\\python\\python311\\lib\\site-packages (from pandas>=0.23->pandas_datareader) (2023.3)\n",
      "Requirement already satisfied: tzdata>=2022.1 in c:\\users\\gupta\\appdata\\local\\programs\\python\\python311\\lib\\site-packages (from pandas>=0.23->pandas_datareader) (2023.3)\n",
      "Requirement already satisfied: numpy>=1.21.0 in c:\\users\\gupta\\appdata\\local\\programs\\python\\python311\\lib\\site-packages (from pandas>=0.23->pandas_datareader) (1.23.5)\n",
      "Requirement already satisfied: charset-normalizer<4,>=2 in c:\\users\\gupta\\appdata\\local\\programs\\python\\python311\\lib\\site-packages (from requests>=2.19.0->pandas_datareader) (3.1.0)\n",
      "Requirement already satisfied: idna<4,>=2.5 in c:\\users\\gupta\\appdata\\local\\programs\\python\\python311\\lib\\site-packages (from requests>=2.19.0->pandas_datareader) (3.4)\n",
      "Requirement already satisfied: urllib3<1.27,>=1.21.1 in c:\\users\\gupta\\appdata\\local\\programs\\python\\python311\\lib\\site-packages (from requests>=2.19.0->pandas_datareader) (1.26.15)\n",
      "Requirement already satisfied: certifi>=2017.4.17 in c:\\users\\gupta\\appdata\\local\\programs\\python\\python311\\lib\\site-packages (from requests>=2.19.0->pandas_datareader) (2022.12.7)\n",
      "Requirement already satisfied: six>=1.5 in c:\\users\\gupta\\appdata\\local\\programs\\python\\python311\\lib\\site-packages (from python-dateutil>=2.8.2->pandas>=0.23->pandas_datareader) (1.16.0)\n"
     ]
    },
    {
     "name": "stderr",
     "output_type": "stream",
     "text": [
      "\n",
      "[notice] A new release of pip is available: 23.0.1 -> 23.1\n",
      "[notice] To update, run: python.exe -m pip install --upgrade pip\n"
     ]
    },
    {
     "name": "stdout",
     "output_type": "stream",
     "text": [
      "Requirement already satisfied: tiingo in c:\\users\\gupta\\appdata\\local\\programs\\python\\python311\\lib\\site-packages (0.14.0)\n",
      "Requirement already satisfied: requests in c:\\users\\gupta\\appdata\\local\\programs\\python\\python311\\lib\\site-packages (from tiingo) (2.28.2)\n",
      "Requirement already satisfied: charset-normalizer<4,>=2 in c:\\users\\gupta\\appdata\\local\\programs\\python\\python311\\lib\\site-packages (from requests->tiingo) (3.1.0)\n",
      "Requirement already satisfied: idna<4,>=2.5 in c:\\users\\gupta\\appdata\\local\\programs\\python\\python311\\lib\\site-packages (from requests->tiingo) (3.4)\n",
      "Requirement already satisfied: urllib3<1.27,>=1.21.1 in c:\\users\\gupta\\appdata\\local\\programs\\python\\python311\\lib\\site-packages (from requests->tiingo) (1.26.15)\n",
      "Requirement already satisfied: certifi>=2017.4.17 in c:\\users\\gupta\\appdata\\local\\programs\\python\\python311\\lib\\site-packages (from requests->tiingo) (2022.12.7)\n"
     ]
    },
    {
     "name": "stderr",
     "output_type": "stream",
     "text": [
      "\n",
      "[notice] A new release of pip is available: 23.0.1 -> 23.1\n",
      "[notice] To update, run: python.exe -m pip install --upgrade pip\n"
     ]
    }
   ],
   "source": [
    "!pip install pandas_datareader   \n",
    "!pip install tiingo"
   ]
  },
  {
   "cell_type": "code",
   "execution_count": 1,
   "id": "c467d56f",
   "metadata": {},
   "outputs": [],
   "source": [
    "### Data Collection \n",
    "import os\n",
    "import pandas_datareader as pdr"
   ]
  },
  {
   "cell_type": "code",
   "execution_count": 2,
   "id": "3f410302",
   "metadata": {},
   "outputs": [],
   "source": [
    "from tiingo import TiingoClient\n",
    "import pandas as pd\n",
    "#client = TiingoClient()\n",
    "config = {}\n",
    "config['session'] = True\n",
    "config['api_key'] = \"4ca09c1b369fcca3cb8334f6f39abee3c0b8531a\"\n",
    "client = TiingoClient(config)"
   ]
  },
  {
   "cell_type": "code",
   "execution_count": 3,
   "id": "1010be96",
   "metadata": {},
   "outputs": [],
   "source": [
    "vg_metadata=client.get_ticker_metadata(\"MS\")"
   ]
  },
  {
   "cell_type": "code",
   "execution_count": 4,
   "id": "5e107526",
   "metadata": {
    "scrolled": true
   },
   "outputs": [
    {
     "name": "stdout",
     "output_type": "stream",
     "text": [
      "{'ticker': 'MS', 'name': 'Morgan Stanley', 'description': 'Morgan Stanley is a leading global financial services firm providing a wide range of investment banking, securities, wealth management and investment management services. With offices in 41 countries, the Firm’s employees serve clients worldwide including corporations, governments, institutions and individuals.', 'startDate': '1993-02-23', 'endDate': '2023-04-21', 'exchangeCode': 'NYSE'}\n"
     ]
    }
   ],
   "source": [
    "print(vg_metadata)"
   ]
  },
  {
   "cell_type": "code",
   "execution_count": 5,
   "id": "f374b426",
   "metadata": {},
   "outputs": [],
   "source": [
    "definitions = client.get_fundamentals_definitions('MS')"
   ]
  },
  {
   "cell_type": "code",
   "execution_count": 6,
   "id": "3b1dfe89",
   "metadata": {},
   "outputs": [
    {
     "name": "stdout",
     "output_type": "stream",
     "text": [
      "[{'dataCode': 'rps', 'name': 'Revenue Per Share', 'description': 'Revenue per share', 'statementType': 'overview', 'units': '$'}, {'dataCode': 'roa', 'name': 'Return on Assets ROA', 'description': 'Net Income/Total Assets', 'statementType': 'overview', 'units': '%'}, {'dataCode': 'assetTurnover', 'name': 'Asset Turnover', 'description': 'Revenue over assets', 'statementType': 'overview', 'units': None}, {'dataCode': 'bookVal', 'name': 'Book Value', 'description': 'Book value of the share, assets - liabilities', 'statementType': 'overview', 'units': '$'}, {'dataCode': 'bvps', 'name': 'Book Value Per Share', 'description': 'Book Value per each share', 'statementType': 'overview', 'units': '$'}, {'dataCode': 'revenue', 'name': 'Revenue', 'description': 'Revenue', 'statementType': 'incomeStatement', 'units': '$'}, {'dataCode': 'epsDil', 'name': 'Earnings Per Share Diluted', 'description': 'EPS for diluted shares', 'statementType': 'incomeStatement', 'units': '$'}, {'dataCode': 'netinc', 'name': 'Net Income', 'description': 'Net income', 'statementType': 'incomeStatement', 'units': '$'}, {'dataCode': 'profitMargin', 'name': 'Profit Margin', 'description': 'This field is marked for DEPRECATION. Please use grossMargin instead. Profit Margin is calculated by the (Revenue - COGS)/Revenue', 'statementType': 'overview', 'units': '%'}, {'dataCode': 'revenueQoQ', 'name': 'Revenue QoQ Growth', 'description': 'Revenue Quarter-over-Quarter Growth rate', 'statementType': 'overview', 'units': '%'}, {'dataCode': 'debtEquity', 'name': 'Debt to Equity Ratio', 'description': 'Debt/Equity ratio', 'statementType': 'overview', 'units': ''}, {'dataCode': 'grossMargin', 'name': 'Gross Margin', 'description': 'The margin of good sold, basically how much of the money the company keeps after selling their goods and services. (Rev.-Cost of Rev.)/Rev.', 'statementType': 'overview', 'units': '%'}, {'dataCode': 'roe', 'name': 'Return on Equity ROE', 'description': \"Return on Shareholder's equity; ROE=Net Income/Shareholder's Equity\", 'statementType': 'overview', 'units': '%'}, {'dataCode': 'currentRatio', 'name': 'Current Ratio', 'description': 'Ability for a company to pay off its short-term liabilities, Current Assets/Current Liabilities', 'statementType': 'overview', 'units': ''}, {'dataCode': 'fxRate', 'name': 'FX Rate', 'description': 'The exchange rate used for the conversion of foreign currency to USD for non-US companies that do not report in USD.', 'statementType': 'overview', 'units': None}, {'dataCode': 'sharesBasic', 'name': 'Shares Outstanding', 'description': 'Outstanding shares', 'statementType': 'balanceSheet', 'units': ''}, {'dataCode': 'piotroskiFScore', 'name': 'Piotroski F-Score', 'description': \"0-9 point scale to determine strength of company's financial position\", 'statementType': 'overview', 'units': None}, {'dataCode': 'longTermDebtEquity', 'name': 'Long-term Debt to Equity', 'description': 'Long term debt to equity', 'statementType': 'overview', 'units': None}, {'dataCode': 'opMargin', 'name': 'Operating Margin', 'description': 'Operating margin, or how much money a company makes on each dollar of revenue. In other words Operating Income/Revenue', 'statementType': 'overview', 'units': '%'}, {'dataCode': 'epsQoQ', 'name': 'Earnings Per Share QoQ Growth', 'description': 'Earnings Per Share Quarter-over-Quarter Growth rate', 'statementType': 'overview', 'units': '%'}, {'dataCode': 'peRatio', 'name': 'Price to Earnings Ratio', 'description': 'P/E Ratio', 'statementType': 'overview', 'units': None}, {'dataCode': 'shareswaDil', 'name': 'Weighted Average Shares Diluted', 'description': 'Used to calculated diluted EPS. Considers all outstanding common stock plus all instruments that can be converted into shares (like stock options) ', 'statementType': 'incomeStatement', 'units': ''}, {'dataCode': 'eps', 'name': 'Earnings Per Share', 'description': 'Earnings per basic share (not diluted)', 'statementType': 'incomeStatement', 'units': '$'}, {'dataCode': 'ppeq', 'name': 'Property, Plant & Equipment', 'description': 'A component of assets representing the total amount of marketable and non-marketable securties, loans receivable and other invested assets.', 'statementType': 'balanceSheet', 'units': '$'}, {'dataCode': 'ebitda', 'name': 'EBITDA', 'description': 'EBITDA is a non-GAAP accounting metric that is widely used when assessing the performance of companies, calculated by adding Depreciation/Amortization back to Earnings before interest and taxes', 'statementType': 'incomeStatement', 'units': '$'}, {'dataCode': 'freeCashFlow', 'name': 'Free Cash Flow', 'description': 'Operating Cash Flow - Capex, How much cash is left over after reinvesting it in the business. Used as a measure to evaluate financial performance of a company', 'statementType': 'cashFlow', 'units': '$'}, {'dataCode': 'issrepayDebt', 'name': 'Issuance or Repayment of Debt Securities', 'description': 'Representing the net cash inflow (outflow) from issuance (repayment) of debt securities.', 'statementType': 'cashFlow', 'units': '$'}, {'dataCode': 'capex', 'name': 'Capital Expenditure', 'description': 'Money uses to upgrade or acquire property or materials to maintain and increase size', 'statementType': 'cashFlow', 'units': '$'}, {'dataCode': 'rnd', 'name': 'Research & Development', 'description': 'The aggregate costs incurred in a planned search or critical investigation aimed at discovery of new knowledge with the hope that such knowledge will be useful in developing a new product or service.', 'statementType': 'incomeStatement', 'units': '$'}, {'dataCode': 'sga', 'name': 'Selling, General & Administrative', 'description': \"The aggregate total costs related to selling a firm's product and services, as well as all other general and administrative expenses. Direct selling expenses (for example, credit, warranty, and advertising) are expenses that can be directly linked to the sale of specific products. Indirect selling expenses are expenses that cannot be directly linked to the sale of specific products, for example telephone expenses, Internet, and postal charges. General and administrative expenses include salaries\", 'statementType': 'incomeStatement', 'units': '$'}, {'dataCode': 'investmentsCurrent', 'name': 'Current Investments', 'description': 'The current portion of Investments, reported if the company operates a classified balance sheet that segments current and non-current assets.', 'statementType': 'balanceSheet', 'units': '$'}, {'dataCode': 'payDiv', 'name': 'Payment of Dividends & Other Cash Distributions', 'description': 'Representing dividends and dividend equivalents paid on common stock and restricted stock units.', 'statementType': 'cashFlow', 'units': '$'}, {'dataCode': 'investmentsAcqDisposals', 'name': 'Investment Acquisitions & Disposals', 'description': 'A component of cash flow from financing, representing the net cash inflow (outflow) associated with the acquisition & disposal of investments, including marketable securities and loan originations.', 'statementType': 'cashFlow', 'units': '$'}, {'dataCode': 'taxLiabilities', 'name': 'Tax Liabilities', 'description': 'A component of liabilities representing outstanding tax liabilities.', 'statementType': 'balanceSheet', 'units': '$'}, {'dataCode': 'ncff', 'name': 'Net Cash Flow from Financing', 'description': 'Net Cash flow from financing activities like issuing stock or debt minus dividends or acquiring debt', 'statementType': 'cashFlow', 'units': '$'}, {'dataCode': 'opinc', 'name': 'Operating Income', 'description': 'Operating income is a measure of financial performance before the deduction of interest expense, tax expenses and other Non-Operating items. It is calculated as gross profit minus operating expenses', 'statementType': 'incomeStatement', 'units': '$'}, {'dataCode': 'nonControllingInterests', 'name': 'Net Income to Non-Controlling Interests', 'description': 'The portion of income which is attributable to non-controlling interest shareholders, subtracted from consolidated income in order to obtain net income', 'statementType': 'incomeStatement', 'units': '$'}, {'dataCode': 'assetsNonCurrent', 'name': 'Other Assets', 'description': 'Assets that cannot be easily converted into cash and where the value of the item will be realized in a year', 'statementType': 'balanceSheet', 'units': '$'}, {'dataCode': 'taxAssets', 'name': 'Tax Assets', 'description': 'A component of assets representing tax assets and receivables.', 'statementType': 'balanceSheet', 'units': '$'}, {'dataCode': 'issrepayEquity', 'name': 'Issuance or Repayment of Equity', 'description': 'Representing the net cash inflow (outflow) from issuance (repayment) of equity.', 'statementType': 'cashFlow', 'units': '$'}, {'dataCode': 'ncfx', 'name': 'Effect of Exchange Rate Changes on Cash', 'description': 'Cash flow from exchange rate changes', 'statementType': 'cashFlow', 'units': '$'}, {'dataCode': 'ncfo', 'name': 'Net Cash Flow from Operations', 'description': \"Cash flow generating from a company's operations\", 'statementType': 'cashFlow', 'units': '$'}, {'dataCode': 'grossProfit', 'name': 'Gross Profit', 'description': 'Aggregate revenue [REVENUE] less cost of revenue [COR] directly attributable to the revenue generation activity.', 'statementType': 'incomeStatement', 'units': '$'}, {'dataCode': 'debtCurrent', 'name': 'Current Debt', 'description': 'Current debt - debt due within a year', 'statementType': 'balanceSheet', 'units': '$'}, {'dataCode': 'retainedEarnings', 'name': 'Accumulated Retained Earnings or Deficit', 'description': \"A component of Shareholder's Equity representing the cumulative amount of the entities undistributed earnings or deficit. May only be reported annually by certain companies, rather than quarterly.\", 'statementType': 'balanceSheet', 'units': '$'}, {'dataCode': 'liabilitiesNonCurrent', 'name': 'Other Liabilities', 'description': 'Long-term liabilities (like debt) that are not due within a year', 'statementType': 'balanceSheet', 'units': '$'}, {'dataCode': 'sbcomp', 'name': 'Shared-based Compensation', 'description': \"A component of cash flow from operating activities, representing the total amount of noncash, equity-based employee remuneration. This may include the value of stock or unit options, amortization of restricted stock or units, and adjustment for officers' compensation. As noncash, this element is an add back when calculating net cash generated by operating activities using the indirect method.\", 'statementType': 'cashFlow', 'units': '$'}, {'dataCode': 'businessAcqDisposals', 'name': 'Business Acquisitions & Disposals', 'description': 'A component of cash flow from investing, representing the net cash inflow (outflow) associated with the acquisition & disposal of businesses, joint-ventures, affiliates, and other named investments.', 'statementType': 'cashFlow', 'units': '$'}, {'dataCode': 'liabilitiesCurrent', 'name': 'Current Liabilities', 'description': 'Debt or liabilities that are due within a year', 'statementType': 'balanceSheet', 'units': '$'}, {'dataCode': 'acctRec', 'name': 'Accounts Receivable', 'description': 'Amount company will receive based on work already completed and delivered', 'statementType': 'balanceSheet', 'units': '$'}, {'dataCode': 'cashAndEq', 'name': 'Cash and Equivalents', 'description': 'Cash or assets that can be converted to cash immediately', 'statementType': 'balanceSheet', 'units': '$'}, {'dataCode': 'accoci', 'name': 'Accumulated Other Comprehensive Income', 'description': \"Unrealized gains and losses - such as items that have changed in value but haven't been bought or sold yet\", 'statementType': 'balanceSheet', 'units': '$'}, {'dataCode': 'depamor', 'name': 'Depreciation, Amortization & Accretion', 'description': 'Depreciation, Amortization, and Accretion', 'statementType': 'cashFlow', 'units': '$'}, {'dataCode': 'assetsCurrent', 'name': 'Current Assets', 'description': 'Assets that can easily be converted to cash and can be used to fund day-to-day operations', 'statementType': 'balanceSheet', 'units': '$'}, {'dataCode': 'shareswa', 'name': 'Weighted Average Shares', 'description': 'Weighted average shares (undiluted)', 'statementType': 'incomeStatement', 'units': ''}, {'dataCode': 'investments', 'name': 'Investments', 'description': 'A component of assets representing the total amount of marketable and non-marketable securties, loans receivable and other invested assets.', 'statementType': 'balanceSheet', 'units': '$'}, {'dataCode': 'prefDVDs', 'name': 'Preferred Dividends Income Statement Impact', 'description': \"Impact of dividend on company's preferred shares\", 'statementType': 'incomeStatement', 'units': '$'}, {'dataCode': 'intangibles', 'name': 'Intangible Assets', 'description': 'Goodwill and Intangible Assets', 'statementType': 'balanceSheet', 'units': '$'}, {'dataCode': 'opex', 'name': 'Operating Expenses', 'description': 'Operating expenses represents the total expenditure on SG&A, R&D and other operating expense items, it excludes cost of revenue.', 'statementType': 'incomeStatement', 'units': '$'}, {'dataCode': 'inventory', 'name': 'Inventory', 'description': 'A component of Total Assets representing the amount after valuation and reserves of inventory expected to be sold, or consumed within one year or operating cycle, if longer.', 'statementType': 'balanceSheet', 'units': '$'}, {'dataCode': 'deposits', 'name': 'Deposits', 'description': 'Deposit liabilities, both domestic and international including deposits such as savings deposts', 'statementType': 'balanceSheet', 'units': '$'}, {'dataCode': 'ebt', 'name': 'Earnings before tax', 'description': 'Revenue - Expenses and excluding tax', 'statementType': 'incomeStatement', 'units': '$'}, {'dataCode': 'netMargin', 'name': 'Net Margin', 'description': 'Net Profit Margin, or the Net Income as a proportion of Revenue. In other words, Net Income/Revenue', 'statementType': 'overview', 'units': '%'}, {'dataCode': 'investmentsNonCurrent', 'name': 'Non-Current Investments', 'description': 'The non-current portion of investments, reported if the company operates a classified balance sheet that segments current and non-current assets.', 'statementType': 'balanceSheet', 'units': '$'}, {'dataCode': 'totalAssets', 'name': 'Total Assets', 'description': 'Total assets', 'statementType': 'balanceSheet', 'units': '$'}, {'dataCode': 'deferredRev', 'name': 'Deferred Revenue', 'description': 'Revenue that was received, but not yet paid out  including sales, license fees, and royalties, but excluding interest income.', 'statementType': 'balanceSheet', 'units': '$'}, {'dataCode': 'taxExp', 'name': 'Tax Expense', 'description': 'Tax expenses', 'statementType': 'incomeStatement', 'units': '$'}, {'dataCode': 'debt', 'name': 'Total Debt', 'description': 'Debt', 'statementType': 'balanceSheet', 'units': '$'}, {'dataCode': 'costRev', 'name': 'Cost of Revenue', 'description': 'The aggregate cost of goods produced and sold and services rendered during the reporting period.', 'statementType': 'incomeStatement', 'units': '$'}, {'dataCode': 'acctPay', 'name': 'Accounts Payable', 'description': 'Short-term debt the company must pay off within a year', 'statementType': 'balanceSheet', 'units': '$'}, {'dataCode': 'ncf', 'name': 'Net Cash Flow to Change in Cash & Cash Equivalents', 'description': 'Net Cash flow - Total cash minux liabilities', 'statementType': 'cashFlow', 'units': '$'}, {'dataCode': 'netIncDiscOps', 'name': 'Net Income from Discontinued Operations', 'description': 'Net income from discontinued operations', 'statementType': 'incomeStatement', 'units': '$'}, {'dataCode': 'totalLiabilities', 'name': 'Total Liabilities', 'description': 'Total Liabilities', 'statementType': 'balanceSheet', 'units': '$'}, {'dataCode': 'ncfi', 'name': 'Net Cash Flow from Investing', 'description': 'Cash flow from investments made by the company', 'statementType': 'cashFlow', 'units': '$'}, {'dataCode': 'debtNonCurrent', 'name': 'Non-Current Debt', 'description': 'Longer-term debt, typically greater than a year', 'statementType': 'balanceSheet', 'units': '$'}, {'dataCode': 'ebit', 'name': 'Earning Before Interest & Taxes EBIT', 'description': 'Earning Before Interest & Taxes (EBIT)', 'statementType': 'incomeStatement', 'units': '$'}, {'dataCode': 'netIncComStock', 'name': 'Net Income Common Stock', 'description': 'Net Income applied to common share holders. Used in calculating EPS (earnings per share).', 'statementType': 'incomeStatement', 'units': '$'}, {'dataCode': 'intexp', 'name': 'Interest Expense', 'description': 'Interest expense', 'statementType': 'incomeStatement', 'units': '$'}, {'dataCode': 'consolidatedIncome', 'name': 'Consolidated Income', 'description': 'The portion of profit or loss for the period, net of income taxes, which is attributable to the consolidated entity.', 'statementType': 'incomeStatement', 'units': '$'}, {'dataCode': 'equity', 'name': 'Shareholders Equity', 'description': 'Shareholders Equity', 'statementType': 'balanceSheet', 'units': '$'}, {'dataCode': 'marketCap', 'name': 'Market Capitalization', 'description': 'Size of the company (shares outstanding * share price)', 'statementType': 'overview', 'units': '$'}, {'dataCode': 'enterpriseVal', 'name': 'Enterprise Value', 'description': \"An alternative to marketcap that's the theoretical takeover price of a company (marketcap + debt - cash and cash equivalents)\", 'statementType': 'overview', 'units': '$'}, {'dataCode': 'shareFactor', 'name': 'Share Factor', 'description': 'Share factor is a multiplicant in the calculation of [MARKETCAP]. For the overwhelming majority of companies its value will be 1. For American Depository Receipts (ADRs) and companies which have different earnings share for different share classes (eg Berkshire Hathaway - BRKB).', 'statementType': 'overview', 'units': None}, {'dataCode': 'trailingPEG1Y', 'name': 'PEG Ratio', 'description': 'PEG ratio using the trailing 1 year EPS growth rate in the denominator', 'statementType': 'overview', 'units': None}, {'dataCode': 'pbRatio', 'name': 'Price to Book Ratio', 'description': 'Price/Book value per share ratio', 'statementType': 'overview', 'units': None}]\n"
     ]
    }
   ],
   "source": [
    "print(definitions)"
   ]
  },
  {
   "cell_type": "code",
   "execution_count": 7,
   "id": "2c849b2b",
   "metadata": {},
   "outputs": [],
   "source": [
    "df = client.get_dataframe(\"MS\",\n",
    "                                     frequency = 'daily',\n",
    "                                     startDate='2019-01-01',\n",
    "                                     endDate='2023-03-01')"
   ]
  },
  {
   "cell_type": "code",
   "execution_count": 8,
   "id": "dab8793a",
   "metadata": {},
   "outputs": [
    {
     "name": "stdout",
     "output_type": "stream",
     "text": [
      "                           close    high    low   open    volume   adjClose   \n",
      "date                                                                          \n",
      "2019-01-02 00:00:00+00:00  40.40  40.720  38.76  39.02  10648013  35.720795  \\\n",
      "2019-01-03 00:00:00+00:00  39.68  40.220  39.25  40.22  13034509  35.084187   \n",
      "2019-01-04 00:00:00+00:00  41.30  41.580  40.28  40.50  14371614  36.516555   \n",
      "2019-01-07 00:00:00+00:00  41.71  42.160  40.98  41.51  11812629  36.879068   \n",
      "2019-01-08 00:00:00+00:00  41.45  42.410  41.08  42.30  11398177  36.649182   \n",
      "...                          ...     ...    ...    ...       ...        ...   \n",
      "2023-02-23 00:00:00+00:00  97.94  98.420  96.70  97.88   5916140  97.940000   \n",
      "2023-02-24 00:00:00+00:00  97.70  97.980  96.61  97.15   5414234  97.700000   \n",
      "2023-02-27 00:00:00+00:00  96.70  98.475  96.58  98.41   5644988  96.700000   \n",
      "2023-02-28 00:00:00+00:00  96.50  97.290  96.26  97.12   6745415  96.500000   \n",
      "2023-03-01 00:00:00+00:00  96.19  96.760  95.26  95.96   5429605  96.190000   \n",
      "\n",
      "                             adjHigh     adjLow    adjOpen  adjVolume   \n",
      "date                                                                    \n",
      "2019-01-02 00:00:00+00:00  36.003732  34.270743  34.500629   10648013  \\\n",
      "2019-01-03 00:00:00+00:00  35.561643  34.703990  35.561643   13034509   \n",
      "2019-01-04 00:00:00+00:00  36.764125  35.614693  35.809213   14371614   \n",
      "2019-01-07 00:00:00+00:00  37.276948  36.233618  36.702232   11812629   \n",
      "2019-01-08 00:00:00+00:00  37.497993  36.322036  37.400733   11398177   \n",
      "...                              ...        ...        ...        ...   \n",
      "2023-02-23 00:00:00+00:00  98.420000  96.700000  97.880000    5916140   \n",
      "2023-02-24 00:00:00+00:00  97.980000  96.610000  97.150000    5414234   \n",
      "2023-02-27 00:00:00+00:00  98.475000  96.580000  98.410000    5644988   \n",
      "2023-02-28 00:00:00+00:00  97.290000  96.260000  97.120000    6745415   \n",
      "2023-03-01 00:00:00+00:00  96.760000  95.260000  95.960000    5429605   \n",
      "\n",
      "                           divCash  splitFactor  \n",
      "date                                             \n",
      "2019-01-02 00:00:00+00:00      0.0          1.0  \n",
      "2019-01-03 00:00:00+00:00      0.0          1.0  \n",
      "2019-01-04 00:00:00+00:00      0.0          1.0  \n",
      "2019-01-07 00:00:00+00:00      0.0          1.0  \n",
      "2019-01-08 00:00:00+00:00      0.0          1.0  \n",
      "...                            ...          ...  \n",
      "2023-02-23 00:00:00+00:00      0.0          1.0  \n",
      "2023-02-24 00:00:00+00:00      0.0          1.0  \n",
      "2023-02-27 00:00:00+00:00      0.0          1.0  \n",
      "2023-02-28 00:00:00+00:00      0.0          1.0  \n",
      "2023-03-01 00:00:00+00:00      0.0          1.0  \n",
      "\n",
      "[1048 rows x 12 columns]\n"
     ]
    }
   ],
   "source": [
    "print(df)"
   ]
  },
  {
   "cell_type": "code",
   "execution_count": 9,
   "id": "bf671ce3",
   "metadata": {},
   "outputs": [],
   "source": [
    "df.to_csv('MS.csv')"
   ]
  },
  {
   "cell_type": "code",
   "execution_count": 10,
   "id": "799e9782",
   "metadata": {},
   "outputs": [],
   "source": [
    "df1 = client.get_dataframe(\"JPM\",\n",
    "                                     frequency = 'daily',\n",
    "                                     startDate='2019-01-01',\n",
    "                                     endDate='2023-01-01')"
   ]
  },
  {
   "cell_type": "code",
   "execution_count": 11,
   "id": "77ffef99",
   "metadata": {},
   "outputs": [],
   "source": [
    "df1.to_csv('JPM.csv')"
   ]
  },
  {
   "cell_type": "code",
   "execution_count": 12,
   "id": "fcf21a3c",
   "metadata": {},
   "outputs": [
    {
     "data": {
      "text/html": [
       "<div>\n",
       "<style scoped>\n",
       "    .dataframe tbody tr th:only-of-type {\n",
       "        vertical-align: middle;\n",
       "    }\n",
       "\n",
       "    .dataframe tbody tr th {\n",
       "        vertical-align: top;\n",
       "    }\n",
       "\n",
       "    .dataframe thead th {\n",
       "        text-align: right;\n",
       "    }\n",
       "</style>\n",
       "<table border=\"1\" class=\"dataframe\">\n",
       "  <thead>\n",
       "    <tr style=\"text-align: right;\">\n",
       "      <th></th>\n",
       "      <th>close</th>\n",
       "      <th>high</th>\n",
       "      <th>low</th>\n",
       "      <th>open</th>\n",
       "      <th>volume</th>\n",
       "      <th>adjClose</th>\n",
       "      <th>adjHigh</th>\n",
       "      <th>adjLow</th>\n",
       "      <th>adjOpen</th>\n",
       "      <th>adjVolume</th>\n",
       "      <th>divCash</th>\n",
       "      <th>splitFactor</th>\n",
       "    </tr>\n",
       "    <tr>\n",
       "      <th>date</th>\n",
       "      <th></th>\n",
       "      <th></th>\n",
       "      <th></th>\n",
       "      <th></th>\n",
       "      <th></th>\n",
       "      <th></th>\n",
       "      <th></th>\n",
       "      <th></th>\n",
       "      <th></th>\n",
       "      <th></th>\n",
       "      <th></th>\n",
       "      <th></th>\n",
       "    </tr>\n",
       "  </thead>\n",
       "  <tbody>\n",
       "    <tr>\n",
       "      <th>2019-01-02 00:00:00+00:00</th>\n",
       "      <td>40.40</td>\n",
       "      <td>40.72</td>\n",
       "      <td>38.76</td>\n",
       "      <td>39.02</td>\n",
       "      <td>10648013</td>\n",
       "      <td>35.720795</td>\n",
       "      <td>36.003732</td>\n",
       "      <td>34.270743</td>\n",
       "      <td>34.500629</td>\n",
       "      <td>10648013</td>\n",
       "      <td>0.0</td>\n",
       "      <td>1.0</td>\n",
       "    </tr>\n",
       "    <tr>\n",
       "      <th>2019-01-03 00:00:00+00:00</th>\n",
       "      <td>39.68</td>\n",
       "      <td>40.22</td>\n",
       "      <td>39.25</td>\n",
       "      <td>40.22</td>\n",
       "      <td>13034509</td>\n",
       "      <td>35.084187</td>\n",
       "      <td>35.561643</td>\n",
       "      <td>34.703990</td>\n",
       "      <td>35.561643</td>\n",
       "      <td>13034509</td>\n",
       "      <td>0.0</td>\n",
       "      <td>1.0</td>\n",
       "    </tr>\n",
       "    <tr>\n",
       "      <th>2019-01-04 00:00:00+00:00</th>\n",
       "      <td>41.30</td>\n",
       "      <td>41.58</td>\n",
       "      <td>40.28</td>\n",
       "      <td>40.50</td>\n",
       "      <td>14371614</td>\n",
       "      <td>36.516555</td>\n",
       "      <td>36.764125</td>\n",
       "      <td>35.614693</td>\n",
       "      <td>35.809213</td>\n",
       "      <td>14371614</td>\n",
       "      <td>0.0</td>\n",
       "      <td>1.0</td>\n",
       "    </tr>\n",
       "    <tr>\n",
       "      <th>2019-01-07 00:00:00+00:00</th>\n",
       "      <td>41.71</td>\n",
       "      <td>42.16</td>\n",
       "      <td>40.98</td>\n",
       "      <td>41.51</td>\n",
       "      <td>11812629</td>\n",
       "      <td>36.879068</td>\n",
       "      <td>37.276948</td>\n",
       "      <td>36.233618</td>\n",
       "      <td>36.702232</td>\n",
       "      <td>11812629</td>\n",
       "      <td>0.0</td>\n",
       "      <td>1.0</td>\n",
       "    </tr>\n",
       "    <tr>\n",
       "      <th>2019-01-08 00:00:00+00:00</th>\n",
       "      <td>41.45</td>\n",
       "      <td>42.41</td>\n",
       "      <td>41.08</td>\n",
       "      <td>42.30</td>\n",
       "      <td>11398177</td>\n",
       "      <td>36.649182</td>\n",
       "      <td>37.497993</td>\n",
       "      <td>36.322036</td>\n",
       "      <td>37.400733</td>\n",
       "      <td>11398177</td>\n",
       "      <td>0.0</td>\n",
       "      <td>1.0</td>\n",
       "    </tr>\n",
       "  </tbody>\n",
       "</table>\n",
       "</div>"
      ],
      "text/plain": [
       "                           close   high    low   open    volume   adjClose   \n",
       "date                                                                         \n",
       "2019-01-02 00:00:00+00:00  40.40  40.72  38.76  39.02  10648013  35.720795  \\\n",
       "2019-01-03 00:00:00+00:00  39.68  40.22  39.25  40.22  13034509  35.084187   \n",
       "2019-01-04 00:00:00+00:00  41.30  41.58  40.28  40.50  14371614  36.516555   \n",
       "2019-01-07 00:00:00+00:00  41.71  42.16  40.98  41.51  11812629  36.879068   \n",
       "2019-01-08 00:00:00+00:00  41.45  42.41  41.08  42.30  11398177  36.649182   \n",
       "\n",
       "                             adjHigh     adjLow    adjOpen  adjVolume   \n",
       "date                                                                    \n",
       "2019-01-02 00:00:00+00:00  36.003732  34.270743  34.500629   10648013  \\\n",
       "2019-01-03 00:00:00+00:00  35.561643  34.703990  35.561643   13034509   \n",
       "2019-01-04 00:00:00+00:00  36.764125  35.614693  35.809213   14371614   \n",
       "2019-01-07 00:00:00+00:00  37.276948  36.233618  36.702232   11812629   \n",
       "2019-01-08 00:00:00+00:00  37.497993  36.322036  37.400733   11398177   \n",
       "\n",
       "                           divCash  splitFactor  \n",
       "date                                             \n",
       "2019-01-02 00:00:00+00:00      0.0          1.0  \n",
       "2019-01-03 00:00:00+00:00      0.0          1.0  \n",
       "2019-01-04 00:00:00+00:00      0.0          1.0  \n",
       "2019-01-07 00:00:00+00:00      0.0          1.0  \n",
       "2019-01-08 00:00:00+00:00      0.0          1.0  "
      ]
     },
     "execution_count": 12,
     "metadata": {},
     "output_type": "execute_result"
    }
   ],
   "source": [
    "df.head()"
   ]
  },
  {
   "cell_type": "code",
   "execution_count": 13,
   "id": "3f013da6",
   "metadata": {},
   "outputs": [
    {
     "data": {
      "text/plain": [
       "(1048, 12)"
      ]
     },
     "execution_count": 13,
     "metadata": {},
     "output_type": "execute_result"
    }
   ],
   "source": [
    "df.shape"
   ]
  },
  {
   "cell_type": "code",
   "execution_count": 14,
   "id": "c0a7bee3",
   "metadata": {},
   "outputs": [],
   "source": [
    "close_MS=client.get_dataframe('MS',\n",
    "                             frequency='daily',\n",
    "                             metric_name='close',\n",
    "                             startDate='2019-01-01',\n",
    "                             endDate='2023-01-01')"
   ]
  },
  {
   "cell_type": "code",
   "execution_count": 15,
   "id": "923f22fd",
   "metadata": {},
   "outputs": [],
   "source": [
    "close_MS.to_csv('close_MS.csv')"
   ]
  },
  {
   "cell_type": "code",
   "execution_count": 16,
   "id": "550588cd",
   "metadata": {},
   "outputs": [],
   "source": [
    "close_JPM=client.get_dataframe('JPM',\n",
    "                             frequency='daily',\n",
    "                             metric_name='close',\n",
    "                             startDate='2019-01-01',\n",
    "                             endDate='2023-01-01')"
   ]
  },
  {
   "cell_type": "code",
   "execution_count": 17,
   "id": "fbd428bf",
   "metadata": {},
   "outputs": [],
   "source": [
    "close_JPM.to_csv('close_JPM.csv')"
   ]
  },
  {
   "cell_type": "code",
   "execution_count": 18,
   "id": "032209b5",
   "metadata": {},
   "outputs": [
    {
     "data": {
      "text/plain": [
       "date\n",
       "2019-01-02 00:00:00+00:00     99.31\n",
       "2019-01-03 00:00:00+00:00     97.11\n",
       "2019-01-04 00:00:00+00:00    100.69\n",
       "2019-01-07 00:00:00+00:00    100.76\n",
       "2019-01-08 00:00:00+00:00    100.57\n",
       "                              ...  \n",
       "2022-12-23 00:00:00+00:00    131.28\n",
       "2022-12-27 00:00:00+00:00    131.74\n",
       "2022-12-28 00:00:00+00:00    132.46\n",
       "2022-12-29 00:00:00+00:00    133.22\n",
       "2022-12-30 00:00:00+00:00    134.10\n",
       "Name: close, Length: 1008, dtype: float64"
      ]
     },
     "execution_count": 18,
     "metadata": {},
     "output_type": "execute_result"
    }
   ],
   "source": [
    "close_JPM"
   ]
  },
  {
   "cell_type": "code",
   "execution_count": 19,
   "id": "f3a5038d",
   "metadata": {},
   "outputs": [],
   "source": [
    "import matplotlib.pyplot as plt"
   ]
  },
  {
   "cell_type": "code",
   "execution_count": 20,
   "id": "2bc13ef1",
   "metadata": {},
   "outputs": [
    {
     "data": {
      "text/plain": [
       "[<matplotlib.lines.Line2D at 0x1e05bd532d0>]"
      ]
     },
     "execution_count": 20,
     "metadata": {},
     "output_type": "execute_result"
    },
    {
     "data": {
      "image/png": "[encoded data removed]",
      "text/plain": [
       "<Figure size 1500x500 with 1 Axes>"
      ]
     },
     "metadata": {},
     "output_type": "display_data"
    }
   ],
   "source": [
    "#import seaborn\n",
    "#plt.style.use('seaborn')\n",
    "plt.figure(figsize=(15,5))\n",
    "plt.plot(close_MS)"
   ]
  },
  {
   "cell_type": "code",
   "execution_count": 21,
   "id": "20400dce",
   "metadata": {},
   "outputs": [
    {
     "data": {
      "text/plain": [
       "[<matplotlib.lines.Line2D at 0x1e05be99290>]"
      ]
     },
     "execution_count": 21,
     "metadata": {},
     "output_type": "execute_result"
    },
    {
     "data": {
      "image/png": "[encoded data removed]",
      "text/plain": [
       "<Figure size 1500x500 with 1 Axes>"
      ]
     },
     "metadata": {},
     "output_type": "display_data"
    }
   ],
   "source": [
    "# Stock prices compared\n",
    "plt.figure(figsize=(15,5))\n",
    "plt.plot(close_MS)\n",
    "plt.plot(close_JPM)"
   ]
  },
  {
   "cell_type": "code",
   "execution_count": 22,
   "id": "ed75f76d",
   "metadata": {},
   "outputs": [],
   "source": [
    "### LSTM are sensitive to the scale of data. so we apply MinMax scaler"
   ]
  },
  {
   "cell_type": "code",
   "execution_count": 23,
   "id": "f7035438",
   "metadata": {},
   "outputs": [],
   "source": [
    "import numpy as np"
   ]
  },
  {
   "cell_type": "code",
   "execution_count": 24,
   "id": "b55532be",
   "metadata": {},
   "outputs": [
    {
     "name": "stdout",
     "output_type": "stream",
     "text": [
      "Requirement already satisfied: scikit-learn in c:\\users\\gupta\\appdata\\local\\programs\\python\\python311\\lib\\site-packages (1.2.2)\n",
      "Requirement already satisfied: numpy>=1.17.3 in c:\\users\\gupta\\appdata\\local\\programs\\python\\python311\\lib\\site-packages (from scikit-learn) (1.23.5)\n",
      "Requirement already satisfied: scipy>=1.3.2 in c:\\users\\gupta\\appdata\\local\\programs\\python\\python311\\lib\\site-packages (from scikit-learn) (1.10.1)\n",
      "Requirement already satisfied: joblib>=1.1.1 in c:\\users\\gupta\\appdata\\local\\programs\\python\\python311\\lib\\site-packages (from scikit-learn) (1.2.0)\n",
      "Requirement already satisfied: threadpoolctl>=2.0.0 in c:\\users\\gupta\\appdata\\local\\programs\\python\\python311\\lib\\site-packages (from scikit-learn) (3.1.0)\n"
     ]
    },
    {
     "name": "stderr",
     "output_type": "stream",
     "text": [
      "\n",
      "[notice] A new release of pip is available: 23.0.1 -> 23.1\n",
      "[notice] To update, run: python.exe -m pip install --upgrade pip\n"
     ]
    }
   ],
   "source": [
    "!pip install scikit-learn"
   ]
  },
  {
   "cell_type": "code",
   "execution_count": 25,
   "id": "f6658673",
   "metadata": {},
   "outputs": [],
   "source": [
    "import sklearn\n",
    "from sklearn import preprocessing"
   ]
  },
  {
   "cell_type": "code",
   "execution_count": 26,
   "id": "71c4ec1e",
   "metadata": {},
   "outputs": [],
   "source": [
    "from sklearn.preprocessing import MinMaxScaler"
   ]
  },
  {
   "cell_type": "code",
   "execution_count": 27,
   "id": "427c7e76",
   "metadata": {},
   "outputs": [
    {
     "data": {
      "text/plain": [
       "date\n",
       "2019-01-02 00:00:00+00:00    40.40\n",
       "2019-01-03 00:00:00+00:00    39.68\n",
       "2019-01-04 00:00:00+00:00    41.30\n",
       "2019-01-07 00:00:00+00:00    41.71\n",
       "2019-01-08 00:00:00+00:00    41.45\n",
       "                             ...  \n",
       "2022-12-23 00:00:00+00:00    86.11\n",
       "2022-12-27 00:00:00+00:00    85.06\n",
       "2022-12-28 00:00:00+00:00    84.46\n",
       "2022-12-29 00:00:00+00:00    85.24\n",
       "2022-12-30 00:00:00+00:00    85.02\n",
       "Name: close, Length: 1008, dtype: float64"
      ]
     },
     "execution_count": 27,
     "metadata": {},
     "output_type": "execute_result"
    }
   ],
   "source": [
    "## Before converting the values to array betweeen 0 to 1\n",
    "close_MS"
   ]
  },
  {
   "cell_type": "code",
   "execution_count": 28,
   "id": "b9e1c980",
   "metadata": {},
   "outputs": [],
   "source": [
    "scaler = MinMaxScaler()\n",
    "close_MS=scaler.fit_transform(np.array(close_MS).reshape(-1,1))"
   ]
  },
  {
   "cell_type": "code",
   "execution_count": 29,
   "id": "1c6958b2",
   "metadata": {},
   "outputs": [
    {
     "data": {
      "text/plain": [
       "array([[0.15558576],\n",
       "       [0.14668809],\n",
       "       [0.16670786],\n",
       "       ...,\n",
       "       [0.70007415],\n",
       "       [0.7097133 ],\n",
       "       [0.70699456]])"
      ]
     },
     "execution_count": 29,
     "metadata": {},
     "output_type": "execute_result"
    }
   ],
   "source": [
    "## Now values will be between zero to one\n",
    "close_MS"
   ]
  },
  {
   "cell_type": "code",
   "execution_count": 30,
   "id": "3da0ca37",
   "metadata": {},
   "outputs": [],
   "source": [
    " ##splitting dataset into train and test split\n",
    "training_size=int(len(close_MS)*0.65)\n",
    "test_size=len(close_MS)-training_size\n",
    "train_data, test_data=close_MS[0:training_size,:],close_MS[training_size:len(close_MS),:1]"
   ]
  },
  {
   "cell_type": "code",
   "execution_count": 31,
   "id": "78aba756",
   "metadata": {},
   "outputs": [
    {
     "data": {
      "text/plain": [
       "(655, 353)"
      ]
     },
     "execution_count": 31,
     "metadata": {},
     "output_type": "execute_result"
    }
   ],
   "source": [
    "training_size,test_size"
   ]
  },
  {
   "cell_type": "code",
   "execution_count": 32,
   "id": "9e12865e",
   "metadata": {},
   "outputs": [
    {
     "data": {
      "text/plain": [
       "655"
      ]
     },
     "execution_count": 32,
     "metadata": {},
     "output_type": "execute_result"
    }
   ],
   "source": [
    "len(train_data)"
   ]
  },
  {
   "cell_type": "code",
   "execution_count": 33,
   "id": "588dc48e",
   "metadata": {},
   "outputs": [],
   "source": [
    "### Explain well train data set from video\n",
    "#convert an array of values into a datest matrix\n",
    "def create_dataset(dataset, time_step=1):\n",
    "    dataX,dataY = [], []\n",
    "    for i in range(len(dataset)-time_step-1):\n",
    "        a=dataset[i:(i+time_step),0]  ###i=0,1,2,3...100 as timestep=100 in xtrain in ytrain - 100,...\n",
    "        dataX.append(a)\n",
    "        dataY.append(dataset[i+time_step,0])\n",
    "    return np.array(dataX), np.array(dataY)"
   ]
  },
  {
   "cell_type": "code",
   "execution_count": 34,
   "id": "3f1afdf4",
   "metadata": {},
   "outputs": [],
   "source": [
    "#reshape into X=t, t+1, t+2. t+3 and Y=t+4\n",
    "time_step=100\n",
    "X_train, y_train = create_dataset(train_data, time_step)\n",
    "X_test, ytest = create_dataset(test_data, time_step)"
   ]
  },
  {
   "cell_type": "code",
   "execution_count": 35,
   "id": "b212ebd6",
   "metadata": {},
   "outputs": [
    {
     "name": "stdout",
     "output_type": "stream",
     "text": [
      "(554, 100)\n",
      "(554,)\n"
     ]
    }
   ],
   "source": [
    "print(X_train.shape)\n",
    "print(y_train.shape) "
   ]
  },
  {
   "cell_type": "code",
   "execution_count": null,
   "id": "b0233bf4",
   "metadata": {},
   "outputs": [],
   "source": [
    "## As we can see there is only one element in y train"
   ]
  },
  {
   "cell_type": "code",
   "execution_count": 36,
   "id": "1d83e7ce",
   "metadata": {},
   "outputs": [
    {
     "name": "stdout",
     "output_type": "stream",
     "text": [
      "(252, 100)\n",
      "(252,)\n"
     ]
    }
   ],
   "source": [
    "print(X_test.shape)\n",
    "print(ytest.shape)"
   ]
  },
  {
   "cell_type": "code",
   "execution_count": 34,
   "id": "df8af4f7",
   "metadata": {},
   "outputs": [
    {
     "name": "stdout",
     "output_type": "stream",
     "text": [
      "[0.96527435 0.92980722 0.92362827 0.87827484 0.81809194 0.8393475\n",
      " 0.89001483 0.87802768 0.86838853 0.8802521  0.89421651 0.90632724\n",
      " 0.91435986 0.9235047  0.94092931 0.94055858 0.92041522 0.94290657\n",
      " 0.95612951 0.97058824 1.         0.98566485 0.9485912  0.92387543\n",
      " 0.93450321 0.90632724 0.84453782 0.83551656 0.82723678 0.81240732\n",
      " 0.7909046  0.8247652  0.77768166 0.73924864 0.74851705 0.74110232\n",
      " 0.72355413 0.68759268 0.68586258 0.73640633 0.71737519 0.70897182\n",
      " 0.7032872  0.72318339 0.7902867  0.81623826 0.82810183 0.8007909\n",
      " 0.8206871  0.79794859 0.79485912 0.79794859 0.78423134 0.79127533\n",
      " 0.77187346 0.73640633 0.73133959 0.73492338 0.71020761 0.68363816\n",
      " 0.68363816 0.69513099 0.69463668 0.69352447 0.69599605 0.70378151\n",
      " 0.72503707 0.75506673 0.77607514 0.75506673 0.70353435 0.7073653\n",
      " 0.67424617 0.67226891 0.68697479 0.65224913 0.66917944 0.69130005\n",
      " 0.73418191 0.70600593 0.69723183 0.65916955 0.64817103 0.63124073\n",
      " 0.62753337 0.65163124 0.64372219 0.68116658 0.65348492 0.64446367\n",
      " 0.63717252 0.6735047  0.66917944 0.67251607 0.7067474  0.72466634\n",
      " 0.72083539 0.7067474  0.70921898 0.69587247 0.70514088 0.71082551\n",
      " 0.68450321 0.65929313 0.61282748 0.58539298 0.58267425 0.5957736\n",
      " 0.57019278 0.557217   0.57859614 0.57575383 0.57043994 0.6180178\n",
      " 0.6133218  0.62221948 0.62259021 0.59626792 0.60479486 0.59688581\n",
      " 0.58872961 0.60776075 0.6045477  0.59330203 0.59478497 0.5829214\n",
      " 0.57933762 0.62086011 0.63087    0.66534849 0.66732575 0.68227879\n",
      " 0.67498764 0.67647059 0.65472071 0.67597627 0.68141374 0.69809689\n",
      " 0.69550173 0.68858131 0.7073653  0.71119624 0.72071181 0.71947603\n",
      " 0.72355413 0.75481957 0.7710084  0.78905091 0.79349975 0.79102818\n",
      " 0.78521997 0.78991597 0.76866041 0.74950568 0.74752842 0.75123579\n",
      " 0.76742462 0.72911518 0.71107266 0.69970341 0.70946614 0.72120613\n",
      " 0.72404844 0.70835393 0.72973307 0.74925853 0.76186357 0.77039051\n",
      " 0.73208107 0.73368759 0.74703411 0.73677706 0.75271873 0.73381117\n",
      " 0.72355413 0.70390509 0.66361839 0.64199209 0.63853188 0.66312407\n",
      " 0.64322788 0.63272368 0.64965398 0.69401878 0.683391   0.66114681\n",
      " 0.63173505 0.62530895 0.60788433 0.60294118 0.63655462 0.58687593\n",
      " 0.60961443 0.63803757 0.61579338 0.60294118 0.63531883 0.63791399\n",
      " 0.6512605  0.65620366 0.65348492 0.67239249 0.67177459 0.69092931\n",
      " 0.69896194 0.68969352 0.70489372 0.7137914  0.71020761 0.68759268\n",
      " 0.75370737 0.77817598 0.76618883 0.77471577 0.76631241 0.75556105\n",
      " 0.75865052 0.75716757 0.76445872 0.76767177 0.7797825  0.76717746\n",
      " 0.78188334 0.80647553 0.80561048 0.79448838 0.76618883 0.73776569\n",
      " 0.73492338 0.752348   0.76198715 0.78237766 0.80202669 0.77471577\n",
      " 0.7412259  0.72973307 0.71354424 0.70872467 0.72985665 0.72367771\n",
      " 0.72046466 0.70748888 0.70007415 0.7097133 ]\n"
     ]
    }
   ],
   "source": [
    "print(ytest)"
   ]
  },
  {
   "cell_type": "code",
   "execution_count": 37,
   "id": "c3a464c8",
   "metadata": {},
   "outputs": [],
   "source": [
    "#Always reshape x train before LSTM to convert the whole shape into 3d\n",
    "#reshape input to be [samples, time steps, features] which is required for LSTM \n",
    "X_train = X_train.reshape(X_train.shape[0], X_train.shape[1],1) ## last two values will be the input for lstm (1)\n",
    "X_test = X_test.reshape(X_test.shape[0], X_test.shape[1],1)"
   ]
  },
  {
   "cell_type": "code",
   "execution_count": 38,
   "id": "c07ab2ef",
   "metadata": {
    "scrolled": true
   },
   "outputs": [
    {
     "name": "stdout",
     "output_type": "stream",
     "text": [
      "Requirement already satisfied: tensorflow in c:\\users\\gupta\\appdata\\local\\programs\\python\\python311\\lib\\site-packages (2.12.0)\n",
      "Requirement already satisfied: tensorflow-intel==2.12.0 in c:\\users\\gupta\\appdata\\local\\programs\\python\\python311\\lib\\site-packages (from tensorflow) (2.12.0)\n",
      "Requirement already satisfied: absl-py>=1.0.0 in c:\\users\\gupta\\appdata\\local\\programs\\python\\python311\\lib\\site-packages (from tensorflow-intel==2.12.0->tensorflow) (1.4.0)\n",
      "Requirement already satisfied: astunparse>=1.6.0 in c:\\users\\gupta\\appdata\\local\\programs\\python\\python311\\lib\\site-packages (from tensorflow-intel==2.12.0->tensorflow) (1.6.3)\n",
      "Requirement already satisfied: flatbuffers>=2.0 in c:\\users\\gupta\\appdata\\local\\programs\\python\\python311\\lib\\site-packages (from tensorflow-intel==2.12.0->tensorflow) (23.3.3)\n",
      "Requirement already satisfied: gast<=0.4.0,>=0.2.1 in c:\\users\\gupta\\appdata\\local\\programs\\python\\python311\\lib\\site-packages (from tensorflow-intel==2.12.0->tensorflow) (0.4.0)\n",
      "Requirement already satisfied: google-pasta>=0.1.1 in c:\\users\\gupta\\appdata\\local\\programs\\python\\python311\\lib\\site-packages (from tensorflow-intel==2.12.0->tensorflow) (0.2.0)\n",
      "Requirement already satisfied: h5py>=2.9.0 in c:\\users\\gupta\\appdata\\local\\programs\\python\\python311\\lib\\site-packages (from tensorflow-intel==2.12.0->tensorflow) (3.8.0)\n",
      "Requirement already satisfied: jax>=0.3.15 in c:\\users\\gupta\\appdata\\local\\programs\\python\\python311\\lib\\site-packages (from tensorflow-intel==2.12.0->tensorflow) (0.4.8)\n",
      "Requirement already satisfied: libclang>=13.0.0 in c:\\users\\gupta\\appdata\\local\\programs\\python\\python311\\lib\\site-packages (from tensorflow-intel==2.12.0->tensorflow) (16.0.0)\n",
      "Requirement already satisfied: numpy<1.24,>=1.22 in c:\\users\\gupta\\appdata\\local\\programs\\python\\python311\\lib\\site-packages (from tensorflow-intel==2.12.0->tensorflow) (1.23.5)\n",
      "Requirement already satisfied: opt-einsum>=2.3.2 in c:\\users\\gupta\\appdata\\local\\programs\\python\\python311\\lib\\site-packages (from tensorflow-intel==2.12.0->tensorflow) (3.3.0)\n",
      "Requirement already satisfied: packaging in c:\\users\\gupta\\appdata\\local\\programs\\python\\python311\\lib\\site-packages (from tensorflow-intel==2.12.0->tensorflow) (23.0)\n",
      "Requirement already satisfied: protobuf!=4.21.0,!=4.21.1,!=4.21.2,!=4.21.3,!=4.21.4,!=4.21.5,<5.0.0dev,>=3.20.3 in c:\\users\\gupta\\appdata\\local\\programs\\python\\python311\\lib\\site-packages (from tensorflow-intel==2.12.0->tensorflow) (4.22.1)\n",
      "Requirement already satisfied: setuptools in c:\\users\\gupta\\appdata\\local\\programs\\python\\python311\\lib\\site-packages (from tensorflow-intel==2.12.0->tensorflow) (65.5.0)\n",
      "Requirement already satisfied: six>=1.12.0 in c:\\users\\gupta\\appdata\\local\\programs\\python\\python311\\lib\\site-packages (from tensorflow-intel==2.12.0->tensorflow) (1.16.0)\n",
      "Requirement already satisfied: termcolor>=1.1.0 in c:\\users\\gupta\\appdata\\local\\programs\\python\\python311\\lib\\site-packages (from tensorflow-intel==2.12.0->tensorflow) (2.2.0)\n",
      "Requirement already satisfied: typing-extensions>=3.6.6 in c:\\users\\gupta\\appdata\\local\\programs\\python\\python311\\lib\\site-packages (from tensorflow-intel==2.12.0->tensorflow) (4.5.0)\n",
      "Requirement already satisfied: wrapt<1.15,>=1.11.0 in c:\\users\\gupta\\appdata\\local\\programs\\python\\python311\\lib\\site-packages (from tensorflow-intel==2.12.0->tensorflow) (1.14.1)\n",
      "Requirement already satisfied: grpcio<2.0,>=1.24.3 in c:\\users\\gupta\\appdata\\local\\programs\\python\\python311\\lib\\site-packages (from tensorflow-intel==2.12.0->tensorflow) (1.53.0)\n",
      "Requirement already satisfied: tensorboard<2.13,>=2.12 in c:\\users\\gupta\\appdata\\local\\programs\\python\\python311\\lib\\site-packages (from tensorflow-intel==2.12.0->tensorflow) (2.12.1)\n",
      "Requirement already satisfied: tensorflow-estimator<2.13,>=2.12.0 in c:\\users\\gupta\\appdata\\local\\programs\\python\\python311\\lib\\site-packages (from tensorflow-intel==2.12.0->tensorflow) (2.12.0)\n",
      "Requirement already satisfied: keras<2.13,>=2.12.0 in c:\\users\\gupta\\appdata\\local\\programs\\python\\python311\\lib\\site-packages (from tensorflow-intel==2.12.0->tensorflow) (2.12.0)\n",
      "Requirement already satisfied: tensorflow-io-gcs-filesystem>=0.23.1 in c:\\users\\gupta\\appdata\\local\\programs\\python\\python311\\lib\\site-packages (from tensorflow-intel==2.12.0->tensorflow) (0.31.0)\n",
      "Requirement already satisfied: wheel<1.0,>=0.23.0 in c:\\users\\gupta\\appdata\\local\\programs\\python\\python311\\lib\\site-packages (from astunparse>=1.6.0->tensorflow-intel==2.12.0->tensorflow) (0.40.0)\n",
      "Requirement already satisfied: ml-dtypes>=0.0.3 in c:\\users\\gupta\\appdata\\local\\programs\\python\\python311\\lib\\site-packages (from jax>=0.3.15->tensorflow-intel==2.12.0->tensorflow) (0.0.4)\n",
      "Requirement already satisfied: scipy>=1.7 in c:\\users\\gupta\\appdata\\local\\programs\\python\\python311\\lib\\site-packages (from jax>=0.3.15->tensorflow-intel==2.12.0->tensorflow) (1.10.1)\n",
      "Requirement already satisfied: google-auth<3,>=1.6.3 in c:\\users\\gupta\\appdata\\local\\programs\\python\\python311\\lib\\site-packages (from tensorboard<2.13,>=2.12->tensorflow-intel==2.12.0->tensorflow) (2.17.2)\n",
      "Requirement already satisfied: google-auth-oauthlib<1.1,>=0.5 in c:\\users\\gupta\\appdata\\local\\programs\\python\\python311\\lib\\site-packages (from tensorboard<2.13,>=2.12->tensorflow-intel==2.12.0->tensorflow) (1.0.0)\n",
      "Requirement already satisfied: markdown>=2.6.8 in c:\\users\\gupta\\appdata\\local\\programs\\python\\python311\\lib\\site-packages (from tensorboard<2.13,>=2.12->tensorflow-intel==2.12.0->tensorflow) (3.4.3)\n",
      "Requirement already satisfied: requests<3,>=2.21.0 in c:\\users\\gupta\\appdata\\local\\programs\\python\\python311\\lib\\site-packages (from tensorboard<2.13,>=2.12->tensorflow-intel==2.12.0->tensorflow) (2.28.2)\n",
      "Requirement already satisfied: tensorboard-data-server<0.8.0,>=0.7.0 in c:\\users\\gupta\\appdata\\local\\programs\\python\\python311\\lib\\site-packages (from tensorboard<2.13,>=2.12->tensorflow-intel==2.12.0->tensorflow) (0.7.0)\n",
      "Requirement already satisfied: tensorboard-plugin-wit>=1.6.0 in c:\\users\\gupta\\appdata\\local\\programs\\python\\python311\\lib\\site-packages (from tensorboard<2.13,>=2.12->tensorflow-intel==2.12.0->tensorflow) (1.8.1)\n",
      "Requirement already satisfied: werkzeug>=1.0.1 in c:\\users\\gupta\\appdata\\local\\programs\\python\\python311\\lib\\site-packages (from tensorboard<2.13,>=2.12->tensorflow-intel==2.12.0->tensorflow) (2.2.3)\n",
      "Requirement already satisfied: cachetools<6.0,>=2.0.0 in c:\\users\\gupta\\appdata\\local\\programs\\python\\python311\\lib\\site-packages (from google-auth<3,>=1.6.3->tensorboard<2.13,>=2.12->tensorflow-intel==2.12.0->tensorflow) (5.3.0)\n",
      "Requirement already satisfied: pyasn1-modules>=0.2.1 in c:\\users\\gupta\\appdata\\local\\programs\\python\\python311\\lib\\site-packages (from google-auth<3,>=1.6.3->tensorboard<2.13,>=2.12->tensorflow-intel==2.12.0->tensorflow) (0.2.8)\n",
      "Requirement already satisfied: rsa<5,>=3.1.4 in c:\\users\\gupta\\appdata\\local\\programs\\python\\python311\\lib\\site-packages (from google-auth<3,>=1.6.3->tensorboard<2.13,>=2.12->tensorflow-intel==2.12.0->tensorflow) (4.9)\n",
      "Requirement already satisfied: requests-oauthlib>=0.7.0 in c:\\users\\gupta\\appdata\\local\\programs\\python\\python311\\lib\\site-packages (from google-auth-oauthlib<1.1,>=0.5->tensorboard<2.13,>=2.12->tensorflow-intel==2.12.0->tensorflow) (1.3.1)\n",
      "Requirement already satisfied: charset-normalizer<4,>=2 in c:\\users\\gupta\\appdata\\local\\programs\\python\\python311\\lib\\site-packages (from requests<3,>=2.21.0->tensorboard<2.13,>=2.12->tensorflow-intel==2.12.0->tensorflow) (3.1.0)\n",
      "Requirement already satisfied: idna<4,>=2.5 in c:\\users\\gupta\\appdata\\local\\programs\\python\\python311\\lib\\site-packages (from requests<3,>=2.21.0->tensorboard<2.13,>=2.12->tensorflow-intel==2.12.0->tensorflow) (3.4)\n",
      "Requirement already satisfied: urllib3<1.27,>=1.21.1 in c:\\users\\gupta\\appdata\\local\\programs\\python\\python311\\lib\\site-packages (from requests<3,>=2.21.0->tensorboard<2.13,>=2.12->tensorflow-intel==2.12.0->tensorflow) (1.26.15)\n",
      "Requirement already satisfied: certifi>=2017.4.17 in c:\\users\\gupta\\appdata\\local\\programs\\python\\python311\\lib\\site-packages (from requests<3,>=2.21.0->tensorboard<2.13,>=2.12->tensorflow-intel==2.12.0->tensorflow) (2022.12.7)\n",
      "Requirement already satisfied: MarkupSafe>=2.1.1 in c:\\users\\gupta\\appdata\\local\\programs\\python\\python311\\lib\\site-packages (from werkzeug>=1.0.1->tensorboard<2.13,>=2.12->tensorflow-intel==2.12.0->tensorflow) (2.1.2)\n",
      "Requirement already satisfied: pyasn1<0.5.0,>=0.4.6 in c:\\users\\gupta\\appdata\\local\\programs\\python\\python311\\lib\\site-packages (from pyasn1-modules>=0.2.1->google-auth<3,>=1.6.3->tensorboard<2.13,>=2.12->tensorflow-intel==2.12.0->tensorflow) (0.4.8)\n",
      "Requirement already satisfied: oauthlib>=3.0.0 in c:\\users\\gupta\\appdata\\local\\programs\\python\\python311\\lib\\site-packages (from requests-oauthlib>=0.7.0->google-auth-oauthlib<1.1,>=0.5->tensorboard<2.13,>=2.12->tensorflow-intel==2.12.0->tensorflow) (3.2.2)\n"
     ]
    },
    {
     "name": "stderr",
     "output_type": "stream",
     "text": [
      "\n",
      "[notice] A new release of pip is available: 23.0.1 -> 23.1\n",
      "[notice] To update, run: python.exe -m pip install --upgrade pip\n"
     ]
    }
   ],
   "source": [
    "\n",
    "!pip install tensorflow"
   ]
  },
  {
   "cell_type": "code",
   "execution_count": 38,
   "id": "97a82fc0",
   "metadata": {},
   "outputs": [],
   "source": [
    "### Create the Stacked LSTM model\n",
    "from tensorflow.keras.models import Sequential\n",
    "from tensorflow.keras.layers import Dense\n",
    "from tensorflow.keras.layers import LSTM"
   ]
  },
  {
   "cell_type": "code",
   "execution_count": 41,
   "id": "584799b7",
   "metadata": {},
   "outputs": [],
   "source": [
    "## Using a sequential model\n",
    "model=Sequential()\n",
    "model.add(LSTM(50,return_sequences=True,input_shape=(100,1))) ## first input value should be X_train (1)\n",
    "## One lstm after another staceked lstm\n",
    "model.add(LSTM(50,return_sequences=True))\n",
    "model.add(LSTM(50))\n",
    "model.add(Dense(1))\n",
    "model.compile(loss='mean_squared_error', optimizer='adam')"
   ]
  },
  {
   "cell_type": "code",
   "execution_count": 42,
   "id": "1f385d29",
   "metadata": {},
   "outputs": [
    {
     "name": "stdout",
     "output_type": "stream",
     "text": [
      "Model: \"sequential_2\"\n",
      "_________________________________________________________________\n",
      " Layer (type)                Output Shape              Param #   \n",
      "=================================================================\n",
      " lstm_6 (LSTM)               (None, 100, 50)           10400     \n",
      "                                                                 \n",
      " lstm_7 (LSTM)               (None, 100, 50)           20200     \n",
      "                                                                 \n",
      " lstm_8 (LSTM)               (None, 50)                20200     \n",
      "                                                                 \n",
      " dense_2 (Dense)             (None, 1)                 51        \n",
      "                                                                 \n",
      "=================================================================\n",
      "Total params: 50,851\n",
      "Trainable params: 50,851\n",
      "Non-trainable params: 0\n",
      "_________________________________________________________________\n"
     ]
    }
   ],
   "source": [
    "model.summary()"
   ]
  },
  {
   "cell_type": "code",
   "execution_count": 43,
   "id": "0abb7d6e",
   "metadata": {},
   "outputs": [
    {
     "name": "stdout",
     "output_type": "stream",
     "text": [
      "Epoch 1/100\n",
      "9/9 [==============================] - 7s 291ms/step - loss: 0.0975 - val_loss: 0.0395\n",
      "Epoch 2/100\n",
      "9/9 [==============================] - 1s 137ms/step - loss: 0.0179 - val_loss: 0.0566\n",
      "Epoch 3/100\n",
      "9/9 [==============================] - 1s 127ms/step - loss: 0.0097 - val_loss: 0.0118\n",
      "Epoch 4/100\n",
      "9/9 [==============================] - 1s 128ms/step - loss: 0.0054 - val_loss: 0.0074\n",
      "Epoch 5/100\n",
      "9/9 [==============================] - 1s 123ms/step - loss: 0.0034 - val_loss: 0.0078\n",
      "Epoch 6/100\n",
      "9/9 [==============================] - 1s 120ms/step - loss: 0.0025 - val_loss: 0.0077\n",
      "Epoch 7/100\n",
      "9/9 [==============================] - 1s 123ms/step - loss: 0.0023 - val_loss: 0.0043\n",
      "Epoch 8/100\n",
      "9/9 [==============================] - 1s 130ms/step - loss: 0.0023 - val_loss: 0.0057\n",
      "Epoch 9/100\n",
      "9/9 [==============================] - 1s 132ms/step - loss: 0.0023 - val_loss: 0.0056\n",
      "Epoch 10/100\n",
      "9/9 [==============================] - 1s 130ms/step - loss: 0.0022 - val_loss: 0.0065\n",
      "Epoch 11/100\n",
      "9/9 [==============================] - 1s 128ms/step - loss: 0.0022 - val_loss: 0.0042\n",
      "Epoch 12/100\n",
      "9/9 [==============================] - 1s 119ms/step - loss: 0.0021 - val_loss: 0.0043\n",
      "Epoch 13/100\n",
      "9/9 [==============================] - 1s 120ms/step - loss: 0.0020 - val_loss: 0.0061\n",
      "Epoch 14/100\n",
      "9/9 [==============================] - 1s 120ms/step - loss: 0.0020 - val_loss: 0.0039\n",
      "Epoch 15/100\n",
      "9/9 [==============================] - 1s 123ms/step - loss: 0.0020 - val_loss: 0.0041\n",
      "Epoch 16/100\n",
      "9/9 [==============================] - 1s 126ms/step - loss: 0.0020 - val_loss: 0.0036\n",
      "Epoch 17/100\n",
      "9/9 [==============================] - 1s 129ms/step - loss: 0.0019 - val_loss: 0.0036\n",
      "Epoch 18/100\n",
      "9/9 [==============================] - 1s 131ms/step - loss: 0.0019 - val_loss: 0.0050\n",
      "Epoch 19/100\n",
      "9/9 [==============================] - 1s 129ms/step - loss: 0.0018 - val_loss: 0.0047\n",
      "Epoch 20/100\n",
      "9/9 [==============================] - 1s 131ms/step - loss: 0.0019 - val_loss: 0.0055\n",
      "Epoch 21/100\n",
      "9/9 [==============================] - 1s 124ms/step - loss: 0.0018 - val_loss: 0.0042\n",
      "Epoch 22/100\n",
      "9/9 [==============================] - 1s 119ms/step - loss: 0.0018 - val_loss: 0.0037\n",
      "Epoch 23/100\n",
      "9/9 [==============================] - 1s 119ms/step - loss: 0.0017 - val_loss: 0.0036\n",
      "Epoch 24/100\n",
      "9/9 [==============================] - 1s 117ms/step - loss: 0.0016 - val_loss: 0.0036\n",
      "Epoch 25/100\n",
      "9/9 [==============================] - 1s 122ms/step - loss: 0.0016 - val_loss: 0.0037\n",
      "Epoch 26/100\n",
      "9/9 [==============================] - 1s 129ms/step - loss: 0.0016 - val_loss: 0.0047\n",
      "Epoch 27/100\n",
      "9/9 [==============================] - 1s 128ms/step - loss: 0.0017 - val_loss: 0.0033\n",
      "Epoch 28/100\n",
      "9/9 [==============================] - 1s 127ms/step - loss: 0.0016 - val_loss: 0.0035\n",
      "Epoch 29/100\n",
      "9/9 [==============================] - 1s 128ms/step - loss: 0.0015 - val_loss: 0.0033\n",
      "Epoch 30/100\n",
      "9/9 [==============================] - 1s 118ms/step - loss: 0.0015 - val_loss: 0.0031\n",
      "Epoch 31/100\n",
      "9/9 [==============================] - 1s 118ms/step - loss: 0.0016 - val_loss: 0.0032\n",
      "Epoch 32/100\n",
      "9/9 [==============================] - 1s 118ms/step - loss: 0.0015 - val_loss: 0.0030\n",
      "Epoch 33/100\n",
      "9/9 [==============================] - 1s 122ms/step - loss: 0.0014 - val_loss: 0.0029\n",
      "Epoch 34/100\n",
      "9/9 [==============================] - 1s 118ms/step - loss: 0.0014 - val_loss: 0.0028\n",
      "Epoch 35/100\n",
      "9/9 [==============================] - 1s 127ms/step - loss: 0.0013 - val_loss: 0.0030\n",
      "Epoch 36/100\n",
      "9/9 [==============================] - 1s 128ms/step - loss: 0.0013 - val_loss: 0.0029\n",
      "Epoch 37/100\n",
      "9/9 [==============================] - 1s 128ms/step - loss: 0.0013 - val_loss: 0.0028\n",
      "Epoch 38/100\n",
      "9/9 [==============================] - 1s 127ms/step - loss: 0.0012 - val_loss: 0.0030\n",
      "Epoch 39/100\n",
      "9/9 [==============================] - 1s 127ms/step - loss: 0.0012 - val_loss: 0.0036\n",
      "Epoch 40/100\n",
      "9/9 [==============================] - 1s 119ms/step - loss: 0.0012 - val_loss: 0.0035\n",
      "Epoch 41/100\n",
      "9/9 [==============================] - 1s 122ms/step - loss: 0.0012 - val_loss: 0.0026\n",
      "Epoch 42/100\n",
      "9/9 [==============================] - 1s 123ms/step - loss: 0.0012 - val_loss: 0.0026\n",
      "Epoch 43/100\n",
      "9/9 [==============================] - 1s 120ms/step - loss: 0.0012 - val_loss: 0.0029\n",
      "Epoch 44/100\n",
      "9/9 [==============================] - 1s 128ms/step - loss: 0.0011 - val_loss: 0.0045\n",
      "Epoch 45/100\n",
      "9/9 [==============================] - 1s 128ms/step - loss: 0.0011 - val_loss: 0.0032\n",
      "Epoch 46/100\n",
      "9/9 [==============================] - 1s 127ms/step - loss: 0.0011 - val_loss: 0.0025\n",
      "Epoch 47/100\n",
      "9/9 [==============================] - 1s 128ms/step - loss: 0.0012 - val_loss: 0.0028\n",
      "Epoch 48/100\n",
      "9/9 [==============================] - 1s 122ms/step - loss: 0.0011 - val_loss: 0.0026\n",
      "Epoch 49/100\n",
      "9/9 [==============================] - 1s 119ms/step - loss: 0.0010 - val_loss: 0.0024\n",
      "Epoch 50/100\n",
      "9/9 [==============================] - 1s 118ms/step - loss: 0.0011 - val_loss: 0.0025\n",
      "Epoch 51/100\n",
      "9/9 [==============================] - 1s 121ms/step - loss: 0.0011 - val_loss: 0.0022\n",
      "Epoch 52/100\n",
      "9/9 [==============================] - 1s 118ms/step - loss: 0.0010 - val_loss: 0.0022\n",
      "Epoch 53/100\n",
      "9/9 [==============================] - 1s 126ms/step - loss: 0.0011 - val_loss: 0.0028\n",
      "Epoch 54/100\n",
      "9/9 [==============================] - 1s 128ms/step - loss: 9.7694e-04 - val_loss: 0.0028\n",
      "Epoch 55/100\n",
      "9/9 [==============================] - 1s 129ms/step - loss: 9.2607e-04 - val_loss: 0.0021\n",
      "Epoch 56/100\n",
      "9/9 [==============================] - 1s 124ms/step - loss: 8.9612e-04 - val_loss: 0.0022\n",
      "Epoch 57/100\n",
      "9/9 [==============================] - 1s 122ms/step - loss: 9.3532e-04 - val_loss: 0.0037\n",
      "Epoch 58/100\n",
      "9/9 [==============================] - 1s 120ms/step - loss: 0.0010 - val_loss: 0.0021\n",
      "Epoch 59/100\n",
      "9/9 [==============================] - 1s 120ms/step - loss: 9.0764e-04 - val_loss: 0.0021\n",
      "Epoch 60/100\n",
      "9/9 [==============================] - 1s 117ms/step - loss: 8.6520e-04 - val_loss: 0.0029\n",
      "Epoch 61/100\n",
      "9/9 [==============================] - 1s 116ms/step - loss: 8.6934e-04 - val_loss: 0.0020\n",
      "Epoch 62/100\n",
      "9/9 [==============================] - 1s 122ms/step - loss: 8.5722e-04 - val_loss: 0.0019\n",
      "Epoch 63/100\n",
      "9/9 [==============================] - 1s 131ms/step - loss: 8.3700e-04 - val_loss: 0.0021\n",
      "Epoch 64/100\n",
      "9/9 [==============================] - 1s 130ms/step - loss: 8.2481e-04 - val_loss: 0.0020\n",
      "Epoch 65/100\n",
      "9/9 [==============================] - 1s 128ms/step - loss: 8.6406e-04 - val_loss: 0.0036\n",
      "Epoch 66/100\n",
      "9/9 [==============================] - 1s 128ms/step - loss: 9.1256e-04 - val_loss: 0.0024\n",
      "Epoch 67/100\n",
      "9/9 [==============================] - 1s 117ms/step - loss: 0.0013 - val_loss: 0.0020\n",
      "Epoch 68/100\n",
      "9/9 [==============================] - 1s 116ms/step - loss: 0.0011 - val_loss: 0.0037\n",
      "Epoch 69/100\n",
      "9/9 [==============================] - 1s 118ms/step - loss: 9.3777e-04 - val_loss: 0.0026\n",
      "Epoch 70/100\n",
      "9/9 [==============================] - 1s 116ms/step - loss: 8.2121e-04 - val_loss: 0.0020\n",
      "Epoch 71/100\n",
      "9/9 [==============================] - 1s 118ms/step - loss: 7.9942e-04 - val_loss: 0.0018\n",
      "Epoch 72/100\n",
      "9/9 [==============================] - 1s 118ms/step - loss: 9.1767e-04 - val_loss: 0.0020\n",
      "Epoch 73/100\n",
      "9/9 [==============================] - 1s 118ms/step - loss: 8.9984e-04 - val_loss: 0.0020\n",
      "Epoch 74/100\n",
      "9/9 [==============================] - 1s 116ms/step - loss: 7.5049e-04 - val_loss: 0.0020\n",
      "Epoch 75/100\n",
      "9/9 [==============================] - 1s 116ms/step - loss: 7.4359e-04 - val_loss: 0.0019\n",
      "Epoch 76/100\n",
      "9/9 [==============================] - 1s 116ms/step - loss: 7.3132e-04 - val_loss: 0.0023\n",
      "Epoch 77/100\n",
      "9/9 [==============================] - 1s 115ms/step - loss: 7.5227e-04 - val_loss: 0.0026\n",
      "Epoch 78/100\n",
      "9/9 [==============================] - 1s 116ms/step - loss: 8.0915e-04 - val_loss: 0.0017\n",
      "Epoch 79/100\n",
      "9/9 [==============================] - 1s 115ms/step - loss: 7.9016e-04 - val_loss: 0.0023\n",
      "Epoch 80/100\n",
      "9/9 [==============================] - 1s 117ms/step - loss: 7.2900e-04 - val_loss: 0.0018\n",
      "Epoch 81/100\n",
      "9/9 [==============================] - 1s 115ms/step - loss: 6.9639e-04 - val_loss: 0.0022\n",
      "Epoch 82/100\n"
     ]
    },
    {
     "name": "stdout",
     "output_type": "stream",
     "text": [
      "9/9 [==============================] - 1s 116ms/step - loss: 8.0966e-04 - val_loss: 0.0018\n",
      "Epoch 83/100\n",
      "9/9 [==============================] - 1s 123ms/step - loss: 8.2498e-04 - val_loss: 0.0020\n",
      "Epoch 84/100\n",
      "9/9 [==============================] - 1s 117ms/step - loss: 7.7213e-04 - val_loss: 0.0029\n",
      "Epoch 85/100\n",
      "9/9 [==============================] - 1s 115ms/step - loss: 7.0814e-04 - val_loss: 0.0017\n",
      "Epoch 86/100\n",
      "9/9 [==============================] - 1s 115ms/step - loss: 6.8915e-04 - val_loss: 0.0016\n",
      "Epoch 87/100\n",
      "9/9 [==============================] - 1s 114ms/step - loss: 6.9630e-04 - val_loss: 0.0017\n",
      "Epoch 88/100\n",
      "9/9 [==============================] - 1s 114ms/step - loss: 6.8967e-04 - val_loss: 0.0022\n",
      "Epoch 89/100\n",
      "9/9 [==============================] - 1s 116ms/step - loss: 6.5609e-04 - val_loss: 0.0016\n",
      "Epoch 90/100\n",
      "9/9 [==============================] - 1s 114ms/step - loss: 6.9511e-04 - val_loss: 0.0015\n",
      "Epoch 91/100\n",
      "9/9 [==============================] - 1s 115ms/step - loss: 7.5591e-04 - val_loss: 0.0022\n",
      "Epoch 92/100\n",
      "9/9 [==============================] - 1s 114ms/step - loss: 6.6343e-04 - val_loss: 0.0020\n",
      "Epoch 93/100\n",
      "9/9 [==============================] - 1s 117ms/step - loss: 6.4978e-04 - val_loss: 0.0017\n",
      "Epoch 94/100\n",
      "9/9 [==============================] - 1s 124ms/step - loss: 6.5343e-04 - val_loss: 0.0018\n",
      "Epoch 95/100\n",
      "9/9 [==============================] - 1s 154ms/step - loss: 6.3439e-04 - val_loss: 0.0021\n",
      "Epoch 96/100\n",
      "9/9 [==============================] - 1s 127ms/step - loss: 6.3021e-04 - val_loss: 0.0015\n",
      "Epoch 97/100\n",
      "9/9 [==============================] - 1s 118ms/step - loss: 6.1451e-04 - val_loss: 0.0020\n",
      "Epoch 98/100\n",
      "9/9 [==============================] - 1s 130ms/step - loss: 6.2575e-04 - val_loss: 0.0017\n",
      "Epoch 99/100\n",
      "9/9 [==============================] - 1s 135ms/step - loss: 6.0993e-04 - val_loss: 0.0018\n",
      "Epoch 100/100\n",
      "9/9 [==============================] - 1s 119ms/step - loss: 6.1716e-04 - val_loss: 0.0017\n"
     ]
    },
    {
     "data": {
      "text/plain": [
       "<keras.callbacks.History at 0x1e079250490>"
      ]
     },
     "execution_count": 43,
     "metadata": {},
     "output_type": "execute_result"
    }
   ],
   "source": [
    "## fitting this data onto x train and y train and validation data\n",
    "model.fit(X_train,y_train,validation_data=(X_test,ytest),epochs=100,batch_size=64,verbose=1)"
   ]
  },
  {
   "cell_type": "code",
   "execution_count": 44,
   "id": "9f834704",
   "metadata": {},
   "outputs": [],
   "source": [
    "import tensorflow as tf"
   ]
  },
  {
   "cell_type": "code",
   "execution_count": 45,
   "id": "c8ac8b72",
   "metadata": {},
   "outputs": [
    {
     "name": "stdout",
     "output_type": "stream",
     "text": [
      "18/18 [==============================] - 1s 20ms/step\n",
      "8/8 [==============================] - 0s 20ms/step\n"
     ]
    }
   ],
   "source": [
    "###Prediction and checking performance metrics\n",
    "train_predict=model.predict(X_train)\n",
    "test_predict=model.predict(X_test)"
   ]
  },
  {
   "cell_type": "code",
   "execution_count": 46,
   "id": "941d1c43",
   "metadata": {},
   "outputs": [],
   "source": [
    "### Transform back to original form\n",
    "train_predict=scaler.inverse_transform(train_predict)\n",
    "test_predict=scaler.inverse_transform(test_predict)"
   ]
  },
  {
   "cell_type": "code",
   "execution_count": 47,
   "id": "8e72c87e",
   "metadata": {},
   "outputs": [
    {
     "data": {
      "text/plain": [
       "59.12401755787029"
      ]
     },
     "execution_count": 47,
     "metadata": {},
     "output_type": "execute_result"
    }
   ],
   "source": [
    "### Calculate RMSE performance metrics \n",
    "import math\n",
    "from sklearn.metrics import mean_squared_error\n",
    "math.sqrt(mean_squared_error(y_train,train_predict)) ##train predict is output for train dataset\n",
    "#rmse calculated is for training dataset"
   ]
  },
  {
   "cell_type": "code",
   "execution_count": 49,
   "id": "15bbe68d",
   "metadata": {},
   "outputs": [
    {
     "data": {
      "text/plain": [
       "87.74896230726821"
      ]
     },
     "execution_count": 49,
     "metadata": {},
     "output_type": "execute_result"
    }
   ],
   "source": [
    "### Test Data RMSE\n",
    "math.sqrt(mean_squared_error(ytest,test_predict))"
   ]
  },
  {
   "cell_type": "code",
   "execution_count": 54,
   "id": "7bdf558b",
   "metadata": {},
   "outputs": [
    {
     "data": {
      "image/png": "[encoded data removed]",
      "text/plain": [
       "<Figure size 640x480 with 1 Axes>"
      ]
     },
     "metadata": {},
     "output_type": "display_data"
    }
   ],
   "source": [
    "### Plotting \n",
    "# shift train predictions for plotting\n",
    "import numpy \n",
    "step=100 \n",
    "trainPredictPlot = numpy.empty_like(close_MS) ## nan values taken based on the size of close_MS\n",
    "trainPredictPlot[:, :] = np.nan  ##nan values? \n",
    "trainPredictPlot[step:len(train_predict)+step, :] = train_predict\n",
    "# shift test predictions for plotting\n",
    "testPredictPlot = numpy.empty_like(df1)\n",
    "testPredictPlot[:, :] = numpy.nan\n",
    "testPredictPlot[len(train_predict)+(step*2)+1:len(close_MS)-1, :] = test_predict\n",
    "# plot baseline and predictions\n",
    "plt.plot(scaler.inverse_transform(close_MS))\n",
    "plt.plot(trainPredictPlot)\n",
    "plt.plot(testPredictPlot)\n",
    "plt.show()\n",
    "## red is test predict which we predicted as compared to original graph"
   ]
  },
  {
   "cell_type": "code",
   "execution_count": 55,
   "id": "b9b8a18a",
   "metadata": {},
   "outputs": [
    {
     "data": {
      "text/plain": [
       "353"
      ]
     },
     "execution_count": 55,
     "metadata": {},
     "output_type": "execute_result"
    }
   ],
   "source": [
    "len(test_data)"
   ]
  },
  {
   "cell_type": "code",
   "execution_count": 56,
   "id": "646e6bc2",
   "metadata": {},
   "outputs": [
    {
     "data": {
      "text/plain": [
       "(1, 100)"
      ]
     },
     "execution_count": 56,
     "metadata": {},
     "output_type": "execute_result"
    }
   ],
   "source": [
    "## Taking previous 30 day data\n",
    "x_input=test_data[253:].reshape(1,-1) ##Taking previous 100 days hence 253\n",
    "x_input.shape"
   ]
  },
  {
   "cell_type": "code",
   "execution_count": 57,
   "id": "69da407f",
   "metadata": {},
   "outputs": [],
   "source": [
    "temp_input=list(x_input)\n",
    "temp_input=temp_input[0].tolist()"
   ]
  },
  {
   "cell_type": "code",
   "execution_count": 58,
   "id": "334d9411",
   "metadata": {},
   "outputs": [
    {
     "data": {
      "text/plain": [
       "[0.7548195748887792,\n",
       " 0.7710084033613447,\n",
       " 0.7890509144834403,\n",
       " 0.7934997528423133,\n",
       " 0.7910281759762727,\n",
       " 0.7852199703410776,\n",
       " 0.7899159663865547,\n",
       " 0.7686604053386061,\n",
       " 0.7495056846267918,\n",
       " 0.7475284231339594,\n",
       " 0.7512357884330203,\n",
       " 0.7674246169055858,\n",
       " 0.7291151754819576,\n",
       " 0.7110726643598615,\n",
       " 0.6997034107760751,\n",
       " 0.7094661393969353,\n",
       " 0.7212061295106278,\n",
       " 0.7240484429065746,\n",
       " 0.708353929807217,\n",
       " 0.7297330696984676,\n",
       " 0.7492585269401879,\n",
       " 0.7618635689569946,\n",
       " 0.7703905091448344,\n",
       " 0.7320810677212062,\n",
       " 0.7336875926841326,\n",
       " 0.7470341077607514,\n",
       " 0.7367770637666833,\n",
       " 0.7527187345526445,\n",
       " 0.7338111715274345,\n",
       " 0.7235541275333663,\n",
       " 0.703905091448344,\n",
       " 0.6636183885318834,\n",
       " 0.6419920909540286,\n",
       " 0.6385318833415718,\n",
       " 0.6631240731586752,\n",
       " 0.643227879387049,\n",
       " 0.6327236777063767,\n",
       " 0.6496539792387541,\n",
       " 0.6940187839841818,\n",
       " 0.6833910034602075,\n",
       " 0.6611468116658428,\n",
       " 0.6317350469599605,\n",
       " 0.6253089471082549,\n",
       " 0.6078843302026693,\n",
       " 0.6029411764705881,\n",
       " 0.6365546218487395,\n",
       " 0.5868759268413246,\n",
       " 0.6096144340088976,\n",
       " 0.6380375679683636,\n",
       " 0.6157933761739989,\n",
       " 0.6029411764705881,\n",
       " 0.6353188334157192,\n",
       " 0.6379139891250618,\n",
       " 0.6512605042016808,\n",
       " 0.6562036579337616,\n",
       " 0.6534849233811171,\n",
       " 0.6723924864063273,\n",
       " 0.671774592189817,\n",
       " 0.6909293129016312,\n",
       " 0.698961937716263,\n",
       " 0.6896935244686111,\n",
       " 0.7048937221947602,\n",
       " 0.7137913989125062,\n",
       " 0.7102076124567474,\n",
       " 0.6875926841324767,\n",
       " 0.7537073652990607,\n",
       " 0.7781759762728622,\n",
       " 0.7661888284725655,\n",
       " 0.7747157686604054,\n",
       " 0.7663124073158674,\n",
       " 0.7555610479485912,\n",
       " 0.7586505190311419,\n",
       " 0.7571675729115175,\n",
       " 0.7644587246663372,\n",
       " 0.7676717745921899,\n",
       " 0.7797825012357884,\n",
       " 0.7671774592189817,\n",
       " 0.7818833415719229,\n",
       " 0.8064755313890262,\n",
       " 0.805610479485912,\n",
       " 0.7944883835887295,\n",
       " 0.7661888284725655,\n",
       " 0.7377656945130995,\n",
       " 0.7349233811171527,\n",
       " 0.7523479980227386,\n",
       " 0.7619871478002966,\n",
       " 0.7823776569451311,\n",
       " 0.8020266930301532,\n",
       " 0.7747157686604054,\n",
       " 0.7412259021255563,\n",
       " 0.7297330696984676,\n",
       " 0.7135442412259021,\n",
       " 0.7087246663371229,\n",
       " 0.7298566485417697,\n",
       " 0.7236777063766684,\n",
       " 0.7204646564508157,\n",
       " 0.7074888779041029,\n",
       " 0.700074147305981,\n",
       " 0.7097132970835391,\n",
       " 0.7069945625308947]"
      ]
     },
     "execution_count": 58,
     "metadata": {},
     "output_type": "execute_result"
    }
   ],
   "source": [
    "temp_input"
   ]
  },
  {
   "cell_type": "code",
   "execution_count": 59,
   "id": "0a1d1b2d",
   "metadata": {},
   "outputs": [
    {
     "name": "stdout",
     "output_type": "stream",
     "text": [
      "[0.7275605]\n",
      "101\n",
      "1 day input [0.7710084  0.78905091 0.79349975 0.79102818 0.78521997 0.78991597\n",
      " 0.76866041 0.74950568 0.74752842 0.75123579 0.76742462 0.72911518\n",
      " 0.71107266 0.69970341 0.70946614 0.72120613 0.72404844 0.70835393\n",
      " 0.72973307 0.74925853 0.76186357 0.77039051 0.73208107 0.73368759\n",
      " 0.74703411 0.73677706 0.75271873 0.73381117 0.72355413 0.70390509\n",
      " 0.66361839 0.64199209 0.63853188 0.66312407 0.64322788 0.63272368\n",
      " 0.64965398 0.69401878 0.683391   0.66114681 0.63173505 0.62530895\n",
      " 0.60788433 0.60294118 0.63655462 0.58687593 0.60961443 0.63803757\n",
      " 0.61579338 0.60294118 0.63531883 0.63791399 0.6512605  0.65620366\n",
      " 0.65348492 0.67239249 0.67177459 0.69092931 0.69896194 0.68969352\n",
      " 0.70489372 0.7137914  0.71020761 0.68759268 0.75370737 0.77817598\n",
      " 0.76618883 0.77471577 0.76631241 0.75556105 0.75865052 0.75716757\n",
      " 0.76445872 0.76767177 0.7797825  0.76717746 0.78188334 0.80647553\n",
      " 0.80561048 0.79448838 0.76618883 0.73776569 0.73492338 0.752348\n",
      " 0.76198715 0.78237766 0.80202669 0.77471577 0.7412259  0.72973307\n",
      " 0.71354424 0.70872467 0.72985665 0.72367771 0.72046466 0.70748888\n",
      " 0.70007415 0.7097133  0.70699456 0.72756052]\n",
      "1 day output [[0.7294021]]\n",
      "2 day input [0.78905091 0.79349975 0.79102818 0.78521997 0.78991597 0.76866041\n",
      " 0.74950568 0.74752842 0.75123579 0.76742462 0.72911518 0.71107266\n",
      " 0.69970341 0.70946614 0.72120613 0.72404844 0.70835393 0.72973307\n",
      " 0.74925853 0.76186357 0.77039051 0.73208107 0.73368759 0.74703411\n",
      " 0.73677706 0.75271873 0.73381117 0.72355413 0.70390509 0.66361839\n",
      " 0.64199209 0.63853188 0.66312407 0.64322788 0.63272368 0.64965398\n",
      " 0.69401878 0.683391   0.66114681 0.63173505 0.62530895 0.60788433\n",
      " 0.60294118 0.63655462 0.58687593 0.60961443 0.63803757 0.61579338\n",
      " 0.60294118 0.63531883 0.63791399 0.6512605  0.65620366 0.65348492\n",
      " 0.67239249 0.67177459 0.69092931 0.69896194 0.68969352 0.70489372\n",
      " 0.7137914  0.71020761 0.68759268 0.75370737 0.77817598 0.76618883\n",
      " 0.77471577 0.76631241 0.75556105 0.75865052 0.75716757 0.76445872\n",
      " 0.76767177 0.7797825  0.76717746 0.78188334 0.80647553 0.80561048\n",
      " 0.79448838 0.76618883 0.73776569 0.73492338 0.752348   0.76198715\n",
      " 0.78237766 0.80202669 0.77471577 0.7412259  0.72973307 0.71354424\n",
      " 0.70872467 0.72985665 0.72367771 0.72046466 0.70748888 0.70007415\n",
      " 0.7097133  0.70699456 0.72756052 0.72940212]\n",
      "2 day output [[0.7333772]]\n",
      "3 day input [0.79349975 0.79102818 0.78521997 0.78991597 0.76866041 0.74950568\n",
      " 0.74752842 0.75123579 0.76742462 0.72911518 0.71107266 0.69970341\n",
      " 0.70946614 0.72120613 0.72404844 0.70835393 0.72973307 0.74925853\n",
      " 0.76186357 0.77039051 0.73208107 0.73368759 0.74703411 0.73677706\n",
      " 0.75271873 0.73381117 0.72355413 0.70390509 0.66361839 0.64199209\n",
      " 0.63853188 0.66312407 0.64322788 0.63272368 0.64965398 0.69401878\n",
      " 0.683391   0.66114681 0.63173505 0.62530895 0.60788433 0.60294118\n",
      " 0.63655462 0.58687593 0.60961443 0.63803757 0.61579338 0.60294118\n",
      " 0.63531883 0.63791399 0.6512605  0.65620366 0.65348492 0.67239249\n",
      " 0.67177459 0.69092931 0.69896194 0.68969352 0.70489372 0.7137914\n",
      " 0.71020761 0.68759268 0.75370737 0.77817598 0.76618883 0.77471577\n",
      " 0.76631241 0.75556105 0.75865052 0.75716757 0.76445872 0.76767177\n",
      " 0.7797825  0.76717746 0.78188334 0.80647553 0.80561048 0.79448838\n",
      " 0.76618883 0.73776569 0.73492338 0.752348   0.76198715 0.78237766\n",
      " 0.80202669 0.77471577 0.7412259  0.72973307 0.71354424 0.70872467\n",
      " 0.72985665 0.72367771 0.72046466 0.70748888 0.70007415 0.7097133\n",
      " 0.70699456 0.72756052 0.72940212 0.73337722]\n",
      "3 day output [[0.73871434]]\n",
      "4 day input [0.79102818 0.78521997 0.78991597 0.76866041 0.74950568 0.74752842\n",
      " 0.75123579 0.76742462 0.72911518 0.71107266 0.69970341 0.70946614\n",
      " 0.72120613 0.72404844 0.70835393 0.72973307 0.74925853 0.76186357\n",
      " 0.77039051 0.73208107 0.73368759 0.74703411 0.73677706 0.75271873\n",
      " 0.73381117 0.72355413 0.70390509 0.66361839 0.64199209 0.63853188\n",
      " 0.66312407 0.64322788 0.63272368 0.64965398 0.69401878 0.683391\n",
      " 0.66114681 0.63173505 0.62530895 0.60788433 0.60294118 0.63655462\n",
      " 0.58687593 0.60961443 0.63803757 0.61579338 0.60294118 0.63531883\n",
      " 0.63791399 0.6512605  0.65620366 0.65348492 0.67239249 0.67177459\n",
      " 0.69092931 0.69896194 0.68969352 0.70489372 0.7137914  0.71020761\n",
      " 0.68759268 0.75370737 0.77817598 0.76618883 0.77471577 0.76631241\n",
      " 0.75556105 0.75865052 0.75716757 0.76445872 0.76767177 0.7797825\n",
      " 0.76717746 0.78188334 0.80647553 0.80561048 0.79448838 0.76618883\n",
      " 0.73776569 0.73492338 0.752348   0.76198715 0.78237766 0.80202669\n",
      " 0.77471577 0.7412259  0.72973307 0.71354424 0.70872467 0.72985665\n",
      " 0.72367771 0.72046466 0.70748888 0.70007415 0.7097133  0.70699456\n",
      " 0.72756052 0.72940212 0.73337722 0.73871434]\n",
      "4 day output [[0.74470365]]\n",
      "5 day input [0.78521997 0.78991597 0.76866041 0.74950568 0.74752842 0.75123579\n",
      " 0.76742462 0.72911518 0.71107266 0.69970341 0.70946614 0.72120613\n",
      " 0.72404844 0.70835393 0.72973307 0.74925853 0.76186357 0.77039051\n",
      " 0.73208107 0.73368759 0.74703411 0.73677706 0.75271873 0.73381117\n",
      " 0.72355413 0.70390509 0.66361839 0.64199209 0.63853188 0.66312407\n",
      " 0.64322788 0.63272368 0.64965398 0.69401878 0.683391   0.66114681\n",
      " 0.63173505 0.62530895 0.60788433 0.60294118 0.63655462 0.58687593\n",
      " 0.60961443 0.63803757 0.61579338 0.60294118 0.63531883 0.63791399\n",
      " 0.6512605  0.65620366 0.65348492 0.67239249 0.67177459 0.69092931\n",
      " 0.69896194 0.68969352 0.70489372 0.7137914  0.71020761 0.68759268\n",
      " 0.75370737 0.77817598 0.76618883 0.77471577 0.76631241 0.75556105\n",
      " 0.75865052 0.75716757 0.76445872 0.76767177 0.7797825  0.76717746\n",
      " 0.78188334 0.80647553 0.80561048 0.79448838 0.76618883 0.73776569\n",
      " 0.73492338 0.752348   0.76198715 0.78237766 0.80202669 0.77471577\n",
      " 0.7412259  0.72973307 0.71354424 0.70872467 0.72985665 0.72367771\n",
      " 0.72046466 0.70748888 0.70007415 0.7097133  0.70699456 0.72756052\n",
      " 0.72940212 0.73337722 0.73871434 0.74470365]\n",
      "5 day output [[0.7507981]]\n",
      "6 day input [0.78991597 0.76866041 0.74950568 0.74752842 0.75123579 0.76742462\n",
      " 0.72911518 0.71107266 0.69970341 0.70946614 0.72120613 0.72404844\n",
      " 0.70835393 0.72973307 0.74925853 0.76186357 0.77039051 0.73208107\n",
      " 0.73368759 0.74703411 0.73677706 0.75271873 0.73381117 0.72355413\n",
      " 0.70390509 0.66361839 0.64199209 0.63853188 0.66312407 0.64322788\n",
      " 0.63272368 0.64965398 0.69401878 0.683391   0.66114681 0.63173505\n",
      " 0.62530895 0.60788433 0.60294118 0.63655462 0.58687593 0.60961443\n",
      " 0.63803757 0.61579338 0.60294118 0.63531883 0.63791399 0.6512605\n",
      " 0.65620366 0.65348492 0.67239249 0.67177459 0.69092931 0.69896194\n",
      " 0.68969352 0.70489372 0.7137914  0.71020761 0.68759268 0.75370737\n",
      " 0.77817598 0.76618883 0.77471577 0.76631241 0.75556105 0.75865052\n",
      " 0.75716757 0.76445872 0.76767177 0.7797825  0.76717746 0.78188334\n",
      " 0.80647553 0.80561048 0.79448838 0.76618883 0.73776569 0.73492338\n",
      " 0.752348   0.76198715 0.78237766 0.80202669 0.77471577 0.7412259\n",
      " 0.72973307 0.71354424 0.70872467 0.72985665 0.72367771 0.72046466\n",
      " 0.70748888 0.70007415 0.7097133  0.70699456 0.72756052 0.72940212\n",
      " 0.73337722 0.73871434 0.74470365 0.75079811]\n",
      "6 day output [[0.7566212]]\n",
      "7 day input [0.76866041 0.74950568 0.74752842 0.75123579 0.76742462 0.72911518\n",
      " 0.71107266 0.69970341 0.70946614 0.72120613 0.72404844 0.70835393\n",
      " 0.72973307 0.74925853 0.76186357 0.77039051 0.73208107 0.73368759\n",
      " 0.74703411 0.73677706 0.75271873 0.73381117 0.72355413 0.70390509\n",
      " 0.66361839 0.64199209 0.63853188 0.66312407 0.64322788 0.63272368\n",
      " 0.64965398 0.69401878 0.683391   0.66114681 0.63173505 0.62530895\n",
      " 0.60788433 0.60294118 0.63655462 0.58687593 0.60961443 0.63803757\n",
      " 0.61579338 0.60294118 0.63531883 0.63791399 0.6512605  0.65620366\n",
      " 0.65348492 0.67239249 0.67177459 0.69092931 0.69896194 0.68969352\n",
      " 0.70489372 0.7137914  0.71020761 0.68759268 0.75370737 0.77817598\n",
      " 0.76618883 0.77471577 0.76631241 0.75556105 0.75865052 0.75716757\n",
      " 0.76445872 0.76767177 0.7797825  0.76717746 0.78188334 0.80647553\n",
      " 0.80561048 0.79448838 0.76618883 0.73776569 0.73492338 0.752348\n",
      " 0.76198715 0.78237766 0.80202669 0.77471577 0.7412259  0.72973307\n",
      " 0.71354424 0.70872467 0.72985665 0.72367771 0.72046466 0.70748888\n",
      " 0.70007415 0.7097133  0.70699456 0.72756052 0.72940212 0.73337722\n",
      " 0.73871434 0.74470365 0.75079811 0.75662118]\n",
      "7 day output [[0.7619341]]\n",
      "8 day input [0.74950568 0.74752842 0.75123579 0.76742462 0.72911518 0.71107266\n",
      " 0.69970341 0.70946614 0.72120613 0.72404844 0.70835393 0.72973307\n",
      " 0.74925853 0.76186357 0.77039051 0.73208107 0.73368759 0.74703411\n",
      " 0.73677706 0.75271873 0.73381117 0.72355413 0.70390509 0.66361839\n",
      " 0.64199209 0.63853188 0.66312407 0.64322788 0.63272368 0.64965398\n",
      " 0.69401878 0.683391   0.66114681 0.63173505 0.62530895 0.60788433\n",
      " 0.60294118 0.63655462 0.58687593 0.60961443 0.63803757 0.61579338\n",
      " 0.60294118 0.63531883 0.63791399 0.6512605  0.65620366 0.65348492\n",
      " 0.67239249 0.67177459 0.69092931 0.69896194 0.68969352 0.70489372\n",
      " 0.7137914  0.71020761 0.68759268 0.75370737 0.77817598 0.76618883\n",
      " 0.77471577 0.76631241 0.75556105 0.75865052 0.75716757 0.76445872\n",
      " 0.76767177 0.7797825  0.76717746 0.78188334 0.80647553 0.80561048\n",
      " 0.79448838 0.76618883 0.73776569 0.73492338 0.752348   0.76198715\n",
      " 0.78237766 0.80202669 0.77471577 0.7412259  0.72973307 0.71354424\n",
      " 0.70872467 0.72985665 0.72367771 0.72046466 0.70748888 0.70007415\n",
      " 0.7097133  0.70699456 0.72756052 0.72940212 0.73337722 0.73871434\n",
      " 0.74470365 0.75079811 0.75662118 0.7619341 ]\n",
      "8 day output [[0.76659936]]\n",
      "9 day input [0.74752842 0.75123579 0.76742462 0.72911518 0.71107266 0.69970341\n",
      " 0.70946614 0.72120613 0.72404844 0.70835393 0.72973307 0.74925853\n",
      " 0.76186357 0.77039051 0.73208107 0.73368759 0.74703411 0.73677706\n",
      " 0.75271873 0.73381117 0.72355413 0.70390509 0.66361839 0.64199209\n",
      " 0.63853188 0.66312407 0.64322788 0.63272368 0.64965398 0.69401878\n",
      " 0.683391   0.66114681 0.63173505 0.62530895 0.60788433 0.60294118\n",
      " 0.63655462 0.58687593 0.60961443 0.63803757 0.61579338 0.60294118\n",
      " 0.63531883 0.63791399 0.6512605  0.65620366 0.65348492 0.67239249\n",
      " 0.67177459 0.69092931 0.69896194 0.68969352 0.70489372 0.7137914\n",
      " 0.71020761 0.68759268 0.75370737 0.77817598 0.76618883 0.77471577\n",
      " 0.76631241 0.75556105 0.75865052 0.75716757 0.76445872 0.76767177\n",
      " 0.7797825  0.76717746 0.78188334 0.80647553 0.80561048 0.79448838\n",
      " 0.76618883 0.73776569 0.73492338 0.752348   0.76198715 0.78237766\n",
      " 0.80202669 0.77471577 0.7412259  0.72973307 0.71354424 0.70872467\n",
      " 0.72985665 0.72367771 0.72046466 0.70748888 0.70007415 0.7097133\n",
      " 0.70699456 0.72756052 0.72940212 0.73337722 0.73871434 0.74470365\n",
      " 0.75079811 0.75662118 0.7619341  0.76659936]\n",
      "9 day output [[0.7705489]]\n",
      "10 day input [0.75123579 0.76742462 0.72911518 0.71107266 0.69970341 0.70946614\n",
      " 0.72120613 0.72404844 0.70835393 0.72973307 0.74925853 0.76186357\n",
      " 0.77039051 0.73208107 0.73368759 0.74703411 0.73677706 0.75271873\n",
      " 0.73381117 0.72355413 0.70390509 0.66361839 0.64199209 0.63853188\n",
      " 0.66312407 0.64322788 0.63272368 0.64965398 0.69401878 0.683391\n",
      " 0.66114681 0.63173505 0.62530895 0.60788433 0.60294118 0.63655462\n",
      " 0.58687593 0.60961443 0.63803757 0.61579338 0.60294118 0.63531883\n",
      " 0.63791399 0.6512605  0.65620366 0.65348492 0.67239249 0.67177459\n",
      " 0.69092931 0.69896194 0.68969352 0.70489372 0.7137914  0.71020761\n",
      " 0.68759268 0.75370737 0.77817598 0.76618883 0.77471577 0.76631241\n",
      " 0.75556105 0.75865052 0.75716757 0.76445872 0.76767177 0.7797825\n",
      " 0.76717746 0.78188334 0.80647553 0.80561048 0.79448838 0.76618883\n",
      " 0.73776569 0.73492338 0.752348   0.76198715 0.78237766 0.80202669\n",
      " 0.77471577 0.7412259  0.72973307 0.71354424 0.70872467 0.72985665\n",
      " 0.72367771 0.72046466 0.70748888 0.70007415 0.7097133  0.70699456\n",
      " 0.72756052 0.72940212 0.73337722 0.73871434 0.74470365 0.75079811\n",
      " 0.75662118 0.7619341  0.76659936 0.77054888]\n"
     ]
    },
    {
     "name": "stdout",
     "output_type": "stream",
     "text": [
      "10 day output [[0.7737643]]\n",
      "11 day input [0.76742462 0.72911518 0.71107266 0.69970341 0.70946614 0.72120613\n",
      " 0.72404844 0.70835393 0.72973307 0.74925853 0.76186357 0.77039051\n",
      " 0.73208107 0.73368759 0.74703411 0.73677706 0.75271873 0.73381117\n",
      " 0.72355413 0.70390509 0.66361839 0.64199209 0.63853188 0.66312407\n",
      " 0.64322788 0.63272368 0.64965398 0.69401878 0.683391   0.66114681\n",
      " 0.63173505 0.62530895 0.60788433 0.60294118 0.63655462 0.58687593\n",
      " 0.60961443 0.63803757 0.61579338 0.60294118 0.63531883 0.63791399\n",
      " 0.6512605  0.65620366 0.65348492 0.67239249 0.67177459 0.69092931\n",
      " 0.69896194 0.68969352 0.70489372 0.7137914  0.71020761 0.68759268\n",
      " 0.75370737 0.77817598 0.76618883 0.77471577 0.76631241 0.75556105\n",
      " 0.75865052 0.75716757 0.76445872 0.76767177 0.7797825  0.76717746\n",
      " 0.78188334 0.80647553 0.80561048 0.79448838 0.76618883 0.73776569\n",
      " 0.73492338 0.752348   0.76198715 0.78237766 0.80202669 0.77471577\n",
      " 0.7412259  0.72973307 0.71354424 0.70872467 0.72985665 0.72367771\n",
      " 0.72046466 0.70748888 0.70007415 0.7097133  0.70699456 0.72756052\n",
      " 0.72940212 0.73337722 0.73871434 0.74470365 0.75079811 0.75662118\n",
      " 0.7619341  0.76659936 0.77054888 0.77376431]\n",
      "11 day output [[0.7762643]]\n",
      "12 day input [0.72911518 0.71107266 0.69970341 0.70946614 0.72120613 0.72404844\n",
      " 0.70835393 0.72973307 0.74925853 0.76186357 0.77039051 0.73208107\n",
      " 0.73368759 0.74703411 0.73677706 0.75271873 0.73381117 0.72355413\n",
      " 0.70390509 0.66361839 0.64199209 0.63853188 0.66312407 0.64322788\n",
      " 0.63272368 0.64965398 0.69401878 0.683391   0.66114681 0.63173505\n",
      " 0.62530895 0.60788433 0.60294118 0.63655462 0.58687593 0.60961443\n",
      " 0.63803757 0.61579338 0.60294118 0.63531883 0.63791399 0.6512605\n",
      " 0.65620366 0.65348492 0.67239249 0.67177459 0.69092931 0.69896194\n",
      " 0.68969352 0.70489372 0.7137914  0.71020761 0.68759268 0.75370737\n",
      " 0.77817598 0.76618883 0.77471577 0.76631241 0.75556105 0.75865052\n",
      " 0.75716757 0.76445872 0.76767177 0.7797825  0.76717746 0.78188334\n",
      " 0.80647553 0.80561048 0.79448838 0.76618883 0.73776569 0.73492338\n",
      " 0.752348   0.76198715 0.78237766 0.80202669 0.77471577 0.7412259\n",
      " 0.72973307 0.71354424 0.70872467 0.72985665 0.72367771 0.72046466\n",
      " 0.70748888 0.70007415 0.7097133  0.70699456 0.72756052 0.72940212\n",
      " 0.73337722 0.73871434 0.74470365 0.75079811 0.75662118 0.7619341\n",
      " 0.76659936 0.77054888 0.77376431 0.77626431]\n",
      "12 day output [[0.77809596]]\n",
      "13 day input [0.71107266 0.69970341 0.70946614 0.72120613 0.72404844 0.70835393\n",
      " 0.72973307 0.74925853 0.76186357 0.77039051 0.73208107 0.73368759\n",
      " 0.74703411 0.73677706 0.75271873 0.73381117 0.72355413 0.70390509\n",
      " 0.66361839 0.64199209 0.63853188 0.66312407 0.64322788 0.63272368\n",
      " 0.64965398 0.69401878 0.683391   0.66114681 0.63173505 0.62530895\n",
      " 0.60788433 0.60294118 0.63655462 0.58687593 0.60961443 0.63803757\n",
      " 0.61579338 0.60294118 0.63531883 0.63791399 0.6512605  0.65620366\n",
      " 0.65348492 0.67239249 0.67177459 0.69092931 0.69896194 0.68969352\n",
      " 0.70489372 0.7137914  0.71020761 0.68759268 0.75370737 0.77817598\n",
      " 0.76618883 0.77471577 0.76631241 0.75556105 0.75865052 0.75716757\n",
      " 0.76445872 0.76767177 0.7797825  0.76717746 0.78188334 0.80647553\n",
      " 0.80561048 0.79448838 0.76618883 0.73776569 0.73492338 0.752348\n",
      " 0.76198715 0.78237766 0.80202669 0.77471577 0.7412259  0.72973307\n",
      " 0.71354424 0.70872467 0.72985665 0.72367771 0.72046466 0.70748888\n",
      " 0.70007415 0.7097133  0.70699456 0.72756052 0.72940212 0.73337722\n",
      " 0.73871434 0.74470365 0.75079811 0.75662118 0.7619341  0.76659936\n",
      " 0.77054888 0.77376431 0.77626431 0.77809596]\n",
      "13 day output [[0.7793301]]\n",
      "14 day input [0.69970341 0.70946614 0.72120613 0.72404844 0.70835393 0.72973307\n",
      " 0.74925853 0.76186357 0.77039051 0.73208107 0.73368759 0.74703411\n",
      " 0.73677706 0.75271873 0.73381117 0.72355413 0.70390509 0.66361839\n",
      " 0.64199209 0.63853188 0.66312407 0.64322788 0.63272368 0.64965398\n",
      " 0.69401878 0.683391   0.66114681 0.63173505 0.62530895 0.60788433\n",
      " 0.60294118 0.63655462 0.58687593 0.60961443 0.63803757 0.61579338\n",
      " 0.60294118 0.63531883 0.63791399 0.6512605  0.65620366 0.65348492\n",
      " 0.67239249 0.67177459 0.69092931 0.69896194 0.68969352 0.70489372\n",
      " 0.7137914  0.71020761 0.68759268 0.75370737 0.77817598 0.76618883\n",
      " 0.77471577 0.76631241 0.75556105 0.75865052 0.75716757 0.76445872\n",
      " 0.76767177 0.7797825  0.76717746 0.78188334 0.80647553 0.80561048\n",
      " 0.79448838 0.76618883 0.73776569 0.73492338 0.752348   0.76198715\n",
      " 0.78237766 0.80202669 0.77471577 0.7412259  0.72973307 0.71354424\n",
      " 0.70872467 0.72985665 0.72367771 0.72046466 0.70748888 0.70007415\n",
      " 0.7097133  0.70699456 0.72756052 0.72940212 0.73337722 0.73871434\n",
      " 0.74470365 0.75079811 0.75662118 0.7619341  0.76659936 0.77054888\n",
      " 0.77376431 0.77626431 0.77809596 0.77933007]\n",
      "14 day output [[0.7800552]]\n",
      "15 day input [0.70946614 0.72120613 0.72404844 0.70835393 0.72973307 0.74925853\n",
      " 0.76186357 0.77039051 0.73208107 0.73368759 0.74703411 0.73677706\n",
      " 0.75271873 0.73381117 0.72355413 0.70390509 0.66361839 0.64199209\n",
      " 0.63853188 0.66312407 0.64322788 0.63272368 0.64965398 0.69401878\n",
      " 0.683391   0.66114681 0.63173505 0.62530895 0.60788433 0.60294118\n",
      " 0.63655462 0.58687593 0.60961443 0.63803757 0.61579338 0.60294118\n",
      " 0.63531883 0.63791399 0.6512605  0.65620366 0.65348492 0.67239249\n",
      " 0.67177459 0.69092931 0.69896194 0.68969352 0.70489372 0.7137914\n",
      " 0.71020761 0.68759268 0.75370737 0.77817598 0.76618883 0.77471577\n",
      " 0.76631241 0.75556105 0.75865052 0.75716757 0.76445872 0.76767177\n",
      " 0.7797825  0.76717746 0.78188334 0.80647553 0.80561048 0.79448838\n",
      " 0.76618883 0.73776569 0.73492338 0.752348   0.76198715 0.78237766\n",
      " 0.80202669 0.77471577 0.7412259  0.72973307 0.71354424 0.70872467\n",
      " 0.72985665 0.72367771 0.72046466 0.70748888 0.70007415 0.7097133\n",
      " 0.70699456 0.72756052 0.72940212 0.73337722 0.73871434 0.74470365\n",
      " 0.75079811 0.75662118 0.7619341  0.76659936 0.77054888 0.77376431\n",
      " 0.77626431 0.77809596 0.77933007 0.78005522]\n",
      "15 day output [[0.78037196]]\n",
      "16 day input [0.72120613 0.72404844 0.70835393 0.72973307 0.74925853 0.76186357\n",
      " 0.77039051 0.73208107 0.73368759 0.74703411 0.73677706 0.75271873\n",
      " 0.73381117 0.72355413 0.70390509 0.66361839 0.64199209 0.63853188\n",
      " 0.66312407 0.64322788 0.63272368 0.64965398 0.69401878 0.683391\n",
      " 0.66114681 0.63173505 0.62530895 0.60788433 0.60294118 0.63655462\n",
      " 0.58687593 0.60961443 0.63803757 0.61579338 0.60294118 0.63531883\n",
      " 0.63791399 0.6512605  0.65620366 0.65348492 0.67239249 0.67177459\n",
      " 0.69092931 0.69896194 0.68969352 0.70489372 0.7137914  0.71020761\n",
      " 0.68759268 0.75370737 0.77817598 0.76618883 0.77471577 0.76631241\n",
      " 0.75556105 0.75865052 0.75716757 0.76445872 0.76767177 0.7797825\n",
      " 0.76717746 0.78188334 0.80647553 0.80561048 0.79448838 0.76618883\n",
      " 0.73776569 0.73492338 0.752348   0.76198715 0.78237766 0.80202669\n",
      " 0.77471577 0.7412259  0.72973307 0.71354424 0.70872467 0.72985665\n",
      " 0.72367771 0.72046466 0.70748888 0.70007415 0.7097133  0.70699456\n",
      " 0.72756052 0.72940212 0.73337722 0.73871434 0.74470365 0.75079811\n",
      " 0.75662118 0.7619341  0.76659936 0.77054888 0.77376431 0.77626431\n",
      " 0.77809596 0.77933007 0.78005522 0.78037196]\n",
      "16 day output [[0.7803877]]\n",
      "17 day input [0.72404844 0.70835393 0.72973307 0.74925853 0.76186357 0.77039051\n",
      " 0.73208107 0.73368759 0.74703411 0.73677706 0.75271873 0.73381117\n",
      " 0.72355413 0.70390509 0.66361839 0.64199209 0.63853188 0.66312407\n",
      " 0.64322788 0.63272368 0.64965398 0.69401878 0.683391   0.66114681\n",
      " 0.63173505 0.62530895 0.60788433 0.60294118 0.63655462 0.58687593\n",
      " 0.60961443 0.63803757 0.61579338 0.60294118 0.63531883 0.63791399\n",
      " 0.6512605  0.65620366 0.65348492 0.67239249 0.67177459 0.69092931\n",
      " 0.69896194 0.68969352 0.70489372 0.7137914  0.71020761 0.68759268\n",
      " 0.75370737 0.77817598 0.76618883 0.77471577 0.76631241 0.75556105\n",
      " 0.75865052 0.75716757 0.76445872 0.76767177 0.7797825  0.76717746\n",
      " 0.78188334 0.80647553 0.80561048 0.79448838 0.76618883 0.73776569\n",
      " 0.73492338 0.752348   0.76198715 0.78237766 0.80202669 0.77471577\n",
      " 0.7412259  0.72973307 0.71354424 0.70872467 0.72985665 0.72367771\n",
      " 0.72046466 0.70748888 0.70007415 0.7097133  0.70699456 0.72756052\n",
      " 0.72940212 0.73337722 0.73871434 0.74470365 0.75079811 0.75662118\n",
      " 0.7619341  0.76659936 0.77054888 0.77376431 0.77626431 0.77809596\n",
      " 0.77933007 0.78005522 0.78037196 0.7803877 ]\n",
      "17 day output [[0.7802121]]\n",
      "18 day input [0.70835393 0.72973307 0.74925853 0.76186357 0.77039051 0.73208107\n",
      " 0.73368759 0.74703411 0.73677706 0.75271873 0.73381117 0.72355413\n",
      " 0.70390509 0.66361839 0.64199209 0.63853188 0.66312407 0.64322788\n",
      " 0.63272368 0.64965398 0.69401878 0.683391   0.66114681 0.63173505\n",
      " 0.62530895 0.60788433 0.60294118 0.63655462 0.58687593 0.60961443\n",
      " 0.63803757 0.61579338 0.60294118 0.63531883 0.63791399 0.6512605\n",
      " 0.65620366 0.65348492 0.67239249 0.67177459 0.69092931 0.69896194\n",
      " 0.68969352 0.70489372 0.7137914  0.71020761 0.68759268 0.75370737\n",
      " 0.77817598 0.76618883 0.77471577 0.76631241 0.75556105 0.75865052\n",
      " 0.75716757 0.76445872 0.76767177 0.7797825  0.76717746 0.78188334\n",
      " 0.80647553 0.80561048 0.79448838 0.76618883 0.73776569 0.73492338\n",
      " 0.752348   0.76198715 0.78237766 0.80202669 0.77471577 0.7412259\n",
      " 0.72973307 0.71354424 0.70872467 0.72985665 0.72367771 0.72046466\n",
      " 0.70748888 0.70007415 0.7097133  0.70699456 0.72756052 0.72940212\n",
      " 0.73337722 0.73871434 0.74470365 0.75079811 0.75662118 0.7619341\n",
      " 0.76659936 0.77054888 0.77376431 0.77626431 0.77809596 0.77933007\n",
      " 0.78005522 0.78037196 0.7803877  0.7802121 ]\n",
      "18 day output [[0.77994907]]\n",
      "19 day input [0.72973307 0.74925853 0.76186357 0.77039051 0.73208107 0.73368759\n",
      " 0.74703411 0.73677706 0.75271873 0.73381117 0.72355413 0.70390509\n",
      " 0.66361839 0.64199209 0.63853188 0.66312407 0.64322788 0.63272368\n",
      " 0.64965398 0.69401878 0.683391   0.66114681 0.63173505 0.62530895\n",
      " 0.60788433 0.60294118 0.63655462 0.58687593 0.60961443 0.63803757\n",
      " 0.61579338 0.60294118 0.63531883 0.63791399 0.6512605  0.65620366\n",
      " 0.65348492 0.67239249 0.67177459 0.69092931 0.69896194 0.68969352\n",
      " 0.70489372 0.7137914  0.71020761 0.68759268 0.75370737 0.77817598\n",
      " 0.76618883 0.77471577 0.76631241 0.75556105 0.75865052 0.75716757\n",
      " 0.76445872 0.76767177 0.7797825  0.76717746 0.78188334 0.80647553\n",
      " 0.80561048 0.79448838 0.76618883 0.73776569 0.73492338 0.752348\n",
      " 0.76198715 0.78237766 0.80202669 0.77471577 0.7412259  0.72973307\n",
      " 0.71354424 0.70872467 0.72985665 0.72367771 0.72046466 0.70748888\n",
      " 0.70007415 0.7097133  0.70699456 0.72756052 0.72940212 0.73337722\n",
      " 0.73871434 0.74470365 0.75079811 0.75662118 0.7619341  0.76659936\n",
      " 0.77054888 0.77376431 0.77626431 0.77809596 0.77933007 0.78005522\n",
      " 0.78037196 0.7803877  0.7802121  0.77994907]\n",
      "19 day output [[0.7796953]]\n",
      "20 day input [0.74925853 0.76186357 0.77039051 0.73208107 0.73368759 0.74703411\n",
      " 0.73677706 0.75271873 0.73381117 0.72355413 0.70390509 0.66361839\n",
      " 0.64199209 0.63853188 0.66312407 0.64322788 0.63272368 0.64965398\n",
      " 0.69401878 0.683391   0.66114681 0.63173505 0.62530895 0.60788433\n",
      " 0.60294118 0.63655462 0.58687593 0.60961443 0.63803757 0.61579338\n",
      " 0.60294118 0.63531883 0.63791399 0.6512605  0.65620366 0.65348492\n",
      " 0.67239249 0.67177459 0.69092931 0.69896194 0.68969352 0.70489372\n",
      " 0.7137914  0.71020761 0.68759268 0.75370737 0.77817598 0.76618883\n",
      " 0.77471577 0.76631241 0.75556105 0.75865052 0.75716757 0.76445872\n",
      " 0.76767177 0.7797825  0.76717746 0.78188334 0.80647553 0.80561048\n",
      " 0.79448838 0.76618883 0.73776569 0.73492338 0.752348   0.76198715\n",
      " 0.78237766 0.80202669 0.77471577 0.7412259  0.72973307 0.71354424\n",
      " 0.70872467 0.72985665 0.72367771 0.72046466 0.70748888 0.70007415\n",
      " 0.7097133  0.70699456 0.72756052 0.72940212 0.73337722 0.73871434\n",
      " 0.74470365 0.75079811 0.75662118 0.7619341  0.76659936 0.77054888\n",
      " 0.77376431 0.77626431 0.77809596 0.77933007 0.78005522 0.78037196\n",
      " 0.7803877  0.7802121  0.77994907 0.77969527]\n",
      "20 day output [[0.779534]]\n",
      "21 day input [0.76186357 0.77039051 0.73208107 0.73368759 0.74703411 0.73677706\n",
      " 0.75271873 0.73381117 0.72355413 0.70390509 0.66361839 0.64199209\n",
      " 0.63853188 0.66312407 0.64322788 0.63272368 0.64965398 0.69401878\n",
      " 0.683391   0.66114681 0.63173505 0.62530895 0.60788433 0.60294118\n",
      " 0.63655462 0.58687593 0.60961443 0.63803757 0.61579338 0.60294118\n",
      " 0.63531883 0.63791399 0.6512605  0.65620366 0.65348492 0.67239249\n",
      " 0.67177459 0.69092931 0.69896194 0.68969352 0.70489372 0.7137914\n",
      " 0.71020761 0.68759268 0.75370737 0.77817598 0.76618883 0.77471577\n",
      " 0.76631241 0.75556105 0.75865052 0.75716757 0.76445872 0.76767177\n",
      " 0.7797825  0.76717746 0.78188334 0.80647553 0.80561048 0.79448838\n",
      " 0.76618883 0.73776569 0.73492338 0.752348   0.76198715 0.78237766\n",
      " 0.80202669 0.77471577 0.7412259  0.72973307 0.71354424 0.70872467\n",
      " 0.72985665 0.72367771 0.72046466 0.70748888 0.70007415 0.7097133\n",
      " 0.70699456 0.72756052 0.72940212 0.73337722 0.73871434 0.74470365\n",
      " 0.75079811 0.75662118 0.7619341  0.76659936 0.77054888 0.77376431\n",
      " 0.77626431 0.77809596 0.77933007 0.78005522 0.78037196 0.7803877\n",
      " 0.7802121  0.77994907 0.77969527 0.77953398]\n"
     ]
    },
    {
     "name": "stdout",
     "output_type": "stream",
     "text": [
      "21 day output [[0.779534]]\n",
      "22 day input [0.77039051 0.73208107 0.73368759 0.74703411 0.73677706 0.75271873\n",
      " 0.73381117 0.72355413 0.70390509 0.66361839 0.64199209 0.63853188\n",
      " 0.66312407 0.64322788 0.63272368 0.64965398 0.69401878 0.683391\n",
      " 0.66114681 0.63173505 0.62530895 0.60788433 0.60294118 0.63655462\n",
      " 0.58687593 0.60961443 0.63803757 0.61579338 0.60294118 0.63531883\n",
      " 0.63791399 0.6512605  0.65620366 0.65348492 0.67239249 0.67177459\n",
      " 0.69092931 0.69896194 0.68969352 0.70489372 0.7137914  0.71020761\n",
      " 0.68759268 0.75370737 0.77817598 0.76618883 0.77471577 0.76631241\n",
      " 0.75556105 0.75865052 0.75716757 0.76445872 0.76767177 0.7797825\n",
      " 0.76717746 0.78188334 0.80647553 0.80561048 0.79448838 0.76618883\n",
      " 0.73776569 0.73492338 0.752348   0.76198715 0.78237766 0.80202669\n",
      " 0.77471577 0.7412259  0.72973307 0.71354424 0.70872467 0.72985665\n",
      " 0.72367771 0.72046466 0.70748888 0.70007415 0.7097133  0.70699456\n",
      " 0.72756052 0.72940212 0.73337722 0.73871434 0.74470365 0.75079811\n",
      " 0.75662118 0.7619341  0.76659936 0.77054888 0.77376431 0.77626431\n",
      " 0.77809596 0.77933007 0.78005522 0.78037196 0.7803877  0.7802121\n",
      " 0.77994907 0.77969527 0.77953398 0.77953398]\n",
      "22 day output [[0.7797477]]\n",
      "23 day input [0.73208107 0.73368759 0.74703411 0.73677706 0.75271873 0.73381117\n",
      " 0.72355413 0.70390509 0.66361839 0.64199209 0.63853188 0.66312407\n",
      " 0.64322788 0.63272368 0.64965398 0.69401878 0.683391   0.66114681\n",
      " 0.63173505 0.62530895 0.60788433 0.60294118 0.63655462 0.58687593\n",
      " 0.60961443 0.63803757 0.61579338 0.60294118 0.63531883 0.63791399\n",
      " 0.6512605  0.65620366 0.65348492 0.67239249 0.67177459 0.69092931\n",
      " 0.69896194 0.68969352 0.70489372 0.7137914  0.71020761 0.68759268\n",
      " 0.75370737 0.77817598 0.76618883 0.77471577 0.76631241 0.75556105\n",
      " 0.75865052 0.75716757 0.76445872 0.76767177 0.7797825  0.76717746\n",
      " 0.78188334 0.80647553 0.80561048 0.79448838 0.76618883 0.73776569\n",
      " 0.73492338 0.752348   0.76198715 0.78237766 0.80202669 0.77471577\n",
      " 0.7412259  0.72973307 0.71354424 0.70872467 0.72985665 0.72367771\n",
      " 0.72046466 0.70748888 0.70007415 0.7097133  0.70699456 0.72756052\n",
      " 0.72940212 0.73337722 0.73871434 0.74470365 0.75079811 0.75662118\n",
      " 0.7619341  0.76659936 0.77054888 0.77376431 0.77626431 0.77809596\n",
      " 0.77933007 0.78005522 0.78037196 0.7803877  0.7802121  0.77994907\n",
      " 0.77969527 0.77953398 0.77953398 0.77974772]\n",
      "23 day output [[0.78021026]]\n",
      "24 day input [0.73368759 0.74703411 0.73677706 0.75271873 0.73381117 0.72355413\n",
      " 0.70390509 0.66361839 0.64199209 0.63853188 0.66312407 0.64322788\n",
      " 0.63272368 0.64965398 0.69401878 0.683391   0.66114681 0.63173505\n",
      " 0.62530895 0.60788433 0.60294118 0.63655462 0.58687593 0.60961443\n",
      " 0.63803757 0.61579338 0.60294118 0.63531883 0.63791399 0.6512605\n",
      " 0.65620366 0.65348492 0.67239249 0.67177459 0.69092931 0.69896194\n",
      " 0.68969352 0.70489372 0.7137914  0.71020761 0.68759268 0.75370737\n",
      " 0.77817598 0.76618883 0.77471577 0.76631241 0.75556105 0.75865052\n",
      " 0.75716757 0.76445872 0.76767177 0.7797825  0.76717746 0.78188334\n",
      " 0.80647553 0.80561048 0.79448838 0.76618883 0.73776569 0.73492338\n",
      " 0.752348   0.76198715 0.78237766 0.80202669 0.77471577 0.7412259\n",
      " 0.72973307 0.71354424 0.70872467 0.72985665 0.72367771 0.72046466\n",
      " 0.70748888 0.70007415 0.7097133  0.70699456 0.72756052 0.72940212\n",
      " 0.73337722 0.73871434 0.74470365 0.75079811 0.75662118 0.7619341\n",
      " 0.76659936 0.77054888 0.77376431 0.77626431 0.77809596 0.77933007\n",
      " 0.78005522 0.78037196 0.7803877  0.7802121  0.77994907 0.77969527\n",
      " 0.77953398 0.77953398 0.77974772 0.78021026]\n",
      "24 day output [[0.7809402]]\n",
      "25 day input [0.74703411 0.73677706 0.75271873 0.73381117 0.72355413 0.70390509\n",
      " 0.66361839 0.64199209 0.63853188 0.66312407 0.64322788 0.63272368\n",
      " 0.64965398 0.69401878 0.683391   0.66114681 0.63173505 0.62530895\n",
      " 0.60788433 0.60294118 0.63655462 0.58687593 0.60961443 0.63803757\n",
      " 0.61579338 0.60294118 0.63531883 0.63791399 0.6512605  0.65620366\n",
      " 0.65348492 0.67239249 0.67177459 0.69092931 0.69896194 0.68969352\n",
      " 0.70489372 0.7137914  0.71020761 0.68759268 0.75370737 0.77817598\n",
      " 0.76618883 0.77471577 0.76631241 0.75556105 0.75865052 0.75716757\n",
      " 0.76445872 0.76767177 0.7797825  0.76717746 0.78188334 0.80647553\n",
      " 0.80561048 0.79448838 0.76618883 0.73776569 0.73492338 0.752348\n",
      " 0.76198715 0.78237766 0.80202669 0.77471577 0.7412259  0.72973307\n",
      " 0.71354424 0.70872467 0.72985665 0.72367771 0.72046466 0.70748888\n",
      " 0.70007415 0.7097133  0.70699456 0.72756052 0.72940212 0.73337722\n",
      " 0.73871434 0.74470365 0.75079811 0.75662118 0.7619341  0.76659936\n",
      " 0.77054888 0.77376431 0.77626431 0.77809596 0.77933007 0.78005522\n",
      " 0.78037196 0.7803877  0.7802121  0.77994907 0.77969527 0.77953398\n",
      " 0.77953398 0.77974772 0.78021026 0.78094018]\n",
      "25 day output [[0.7819402]]\n",
      "26 day input [0.73677706 0.75271873 0.73381117 0.72355413 0.70390509 0.66361839\n",
      " 0.64199209 0.63853188 0.66312407 0.64322788 0.63272368 0.64965398\n",
      " 0.69401878 0.683391   0.66114681 0.63173505 0.62530895 0.60788433\n",
      " 0.60294118 0.63655462 0.58687593 0.60961443 0.63803757 0.61579338\n",
      " 0.60294118 0.63531883 0.63791399 0.6512605  0.65620366 0.65348492\n",
      " 0.67239249 0.67177459 0.69092931 0.69896194 0.68969352 0.70489372\n",
      " 0.7137914  0.71020761 0.68759268 0.75370737 0.77817598 0.76618883\n",
      " 0.77471577 0.76631241 0.75556105 0.75865052 0.75716757 0.76445872\n",
      " 0.76767177 0.7797825  0.76717746 0.78188334 0.80647553 0.80561048\n",
      " 0.79448838 0.76618883 0.73776569 0.73492338 0.752348   0.76198715\n",
      " 0.78237766 0.80202669 0.77471577 0.7412259  0.72973307 0.71354424\n",
      " 0.70872467 0.72985665 0.72367771 0.72046466 0.70748888 0.70007415\n",
      " 0.7097133  0.70699456 0.72756052 0.72940212 0.73337722 0.73871434\n",
      " 0.74470365 0.75079811 0.75662118 0.7619341  0.76659936 0.77054888\n",
      " 0.77376431 0.77626431 0.77809596 0.77933007 0.78005522 0.78037196\n",
      " 0.7803877  0.7802121  0.77994907 0.77969527 0.77953398 0.77953398\n",
      " 0.77974772 0.78021026 0.78094018 0.78194022]\n",
      "26 day output [[0.78319985]]\n",
      "27 day input [0.75271873 0.73381117 0.72355413 0.70390509 0.66361839 0.64199209\n",
      " 0.63853188 0.66312407 0.64322788 0.63272368 0.64965398 0.69401878\n",
      " 0.683391   0.66114681 0.63173505 0.62530895 0.60788433 0.60294118\n",
      " 0.63655462 0.58687593 0.60961443 0.63803757 0.61579338 0.60294118\n",
      " 0.63531883 0.63791399 0.6512605  0.65620366 0.65348492 0.67239249\n",
      " 0.67177459 0.69092931 0.69896194 0.68969352 0.70489372 0.7137914\n",
      " 0.71020761 0.68759268 0.75370737 0.77817598 0.76618883 0.77471577\n",
      " 0.76631241 0.75556105 0.75865052 0.75716757 0.76445872 0.76767177\n",
      " 0.7797825  0.76717746 0.78188334 0.80647553 0.80561048 0.79448838\n",
      " 0.76618883 0.73776569 0.73492338 0.752348   0.76198715 0.78237766\n",
      " 0.80202669 0.77471577 0.7412259  0.72973307 0.71354424 0.70872467\n",
      " 0.72985665 0.72367771 0.72046466 0.70748888 0.70007415 0.7097133\n",
      " 0.70699456 0.72756052 0.72940212 0.73337722 0.73871434 0.74470365\n",
      " 0.75079811 0.75662118 0.7619341  0.76659936 0.77054888 0.77376431\n",
      " 0.77626431 0.77809596 0.77933007 0.78005522 0.78037196 0.7803877\n",
      " 0.7802121  0.77994907 0.77969527 0.77953398 0.77953398 0.77974772\n",
      " 0.78021026 0.78094018 0.78194022 0.78319985]\n",
      "27 day output [[0.7846971]]\n",
      "28 day input [0.73381117 0.72355413 0.70390509 0.66361839 0.64199209 0.63853188\n",
      " 0.66312407 0.64322788 0.63272368 0.64965398 0.69401878 0.683391\n",
      " 0.66114681 0.63173505 0.62530895 0.60788433 0.60294118 0.63655462\n",
      " 0.58687593 0.60961443 0.63803757 0.61579338 0.60294118 0.63531883\n",
      " 0.63791399 0.6512605  0.65620366 0.65348492 0.67239249 0.67177459\n",
      " 0.69092931 0.69896194 0.68969352 0.70489372 0.7137914  0.71020761\n",
      " 0.68759268 0.75370737 0.77817598 0.76618883 0.77471577 0.76631241\n",
      " 0.75556105 0.75865052 0.75716757 0.76445872 0.76767177 0.7797825\n",
      " 0.76717746 0.78188334 0.80647553 0.80561048 0.79448838 0.76618883\n",
      " 0.73776569 0.73492338 0.752348   0.76198715 0.78237766 0.80202669\n",
      " 0.77471577 0.7412259  0.72973307 0.71354424 0.70872467 0.72985665\n",
      " 0.72367771 0.72046466 0.70748888 0.70007415 0.7097133  0.70699456\n",
      " 0.72756052 0.72940212 0.73337722 0.73871434 0.74470365 0.75079811\n",
      " 0.75662118 0.7619341  0.76659936 0.77054888 0.77376431 0.77626431\n",
      " 0.77809596 0.77933007 0.78005522 0.78037196 0.7803877  0.7802121\n",
      " 0.77994907 0.77969527 0.77953398 0.77953398 0.77974772 0.78021026\n",
      " 0.78094018 0.78194022 0.78319985 0.78469712]\n",
      "28 day output [[0.78640026]]\n",
      "29 day input [0.72355413 0.70390509 0.66361839 0.64199209 0.63853188 0.66312407\n",
      " 0.64322788 0.63272368 0.64965398 0.69401878 0.683391   0.66114681\n",
      " 0.63173505 0.62530895 0.60788433 0.60294118 0.63655462 0.58687593\n",
      " 0.60961443 0.63803757 0.61579338 0.60294118 0.63531883 0.63791399\n",
      " 0.6512605  0.65620366 0.65348492 0.67239249 0.67177459 0.69092931\n",
      " 0.69896194 0.68969352 0.70489372 0.7137914  0.71020761 0.68759268\n",
      " 0.75370737 0.77817598 0.76618883 0.77471577 0.76631241 0.75556105\n",
      " 0.75865052 0.75716757 0.76445872 0.76767177 0.7797825  0.76717746\n",
      " 0.78188334 0.80647553 0.80561048 0.79448838 0.76618883 0.73776569\n",
      " 0.73492338 0.752348   0.76198715 0.78237766 0.80202669 0.77471577\n",
      " 0.7412259  0.72973307 0.71354424 0.70872467 0.72985665 0.72367771\n",
      " 0.72046466 0.70748888 0.70007415 0.7097133  0.70699456 0.72756052\n",
      " 0.72940212 0.73337722 0.73871434 0.74470365 0.75079811 0.75662118\n",
      " 0.7619341  0.76659936 0.77054888 0.77376431 0.77626431 0.77809596\n",
      " 0.77933007 0.78005522 0.78037196 0.7803877  0.7802121  0.77994907\n",
      " 0.77969527 0.77953398 0.77953398 0.77974772 0.78021026 0.78094018\n",
      " 0.78194022 0.78319985 0.78469712 0.78640026]\n"
     ]
    },
    {
     "name": "stdout",
     "output_type": "stream",
     "text": [
      "29 day output [[0.78827125]]\n",
      "[[0.7275605201721191], [0.7294021248817444], [0.73337721824646], [0.738714337348938], [0.7447036504745483], [0.7507981061935425], [0.7566211819648743], [0.7619341015815735], [0.7665993571281433], [0.7705488801002502], [0.7737643122673035], [0.7762643098831177], [0.7780959606170654], [0.7793300747871399], [0.7800552248954773], [0.7803719639778137], [0.7803876996040344], [0.7802121043205261], [0.7799490690231323], [0.7796952724456787], [0.7795339822769165], [0.7795339822769165], [0.779747724533081], [0.7802102565765381], [0.7809401750564575], [0.781940221786499], [0.7831998467445374], [0.7846971154212952], [0.7864002585411072], [0.7882712483406067]]\n"
     ]
    }
   ],
   "source": [
    "# demonstrate prediction for next 30 days\n",
    "from numpy import array\n",
    "\n",
    "lst_output=[]\n",
    "n_steps=100\n",
    "i=0\n",
    "while(i<30):\n",
    "    \n",
    "    if(len(temp_input)>100):\n",
    "        #print(temp_input)\n",
    "        x_input=numpy.array(temp_input[1:])\n",
    "        print(\"{} day input {}\".format(i,x_input))\n",
    "        x_input=x_input.reshape(1,-1)\n",
    "        x_input = x_input.reshape((1, n_steps, 1))\n",
    "        #print(x_input)\n",
    "        yhat = model.predict(x_input, verbose=0)\n",
    "        print(\"{} day output {}\".format(i,yhat))\n",
    "        temp_input.extend(yhat[0].tolist())\n",
    "        temp_input=temp_input[1:]\n",
    "        #print(temp_input)\n",
    "        lst_output.extend(yhat.tolist())\n",
    "        i=i+1\n",
    "    else:\n",
    "        x_input = x_input.reshape((1, n_steps,1))\n",
    "        yhat = model.predict(x_input, verbose=0)\n",
    "        print(yhat[0])\n",
    "        temp_input.extend(yhat[0].tolist())\n",
    "        print(len(temp_input))\n",
    "        lst_output.extend(yhat.tolist())\n",
    "        i=i+1\n",
    "    \n",
    "\n",
    "print(lst_output)"
   ]
  },
  {
   "cell_type": "code",
   "execution_count": 60,
   "id": "45c4edf3",
   "metadata": {},
   "outputs": [],
   "source": [
    "day_new=np.arange(1,101)\n",
    "day_pred=np.arange(101,131)"
   ]
  },
  {
   "cell_type": "code",
   "execution_count": 61,
   "id": "4c0a3d22",
   "metadata": {},
   "outputs": [],
   "source": [
    "import matplotlib.pyplot as plt"
   ]
  },
  {
   "cell_type": "code",
   "execution_count": 62,
   "id": "88f716e3",
   "metadata": {},
   "outputs": [
    {
     "data": {
      "text/plain": [
       "1008"
      ]
     },
     "execution_count": 62,
     "metadata": {},
     "output_type": "execute_result"
    }
   ],
   "source": [
    "len(close_MS)"
   ]
  },
  {
   "cell_type": "code",
   "execution_count": 63,
   "id": "29d6c81b",
   "metadata": {},
   "outputs": [],
   "source": [
    "df3=close_MS.tolist()\n",
    "df3.extend(lst_output)"
   ]
  },
  {
   "cell_type": "code",
   "execution_count": 64,
   "id": "ac358c05",
   "metadata": {},
   "outputs": [],
   "source": [
    "g = scaler.inverse_transform(lst_output)"
   ]
  },
  {
   "cell_type": "code",
   "execution_count": 65,
   "id": "c00d4c87",
   "metadata": {},
   "outputs": [],
   "source": [
    "h = scaler.inverse_transform(close_MS[908:]) ## 908 because we have taken previous 100 days days data and len is 1008\n",
    "## we have taken the 100 days data as original data for prediction so we want that data to be depicted after 908 values to complete 1008 values"
   ]
  },
  {
   "cell_type": "code",
   "execution_count": 66,
   "id": "159e292f",
   "metadata": {},
   "outputs": [
    {
     "data": {
      "text/plain": [
       "[<matplotlib.lines.Line2D at 0x1e07fd8ec90>]"
      ]
     },
     "execution_count": 66,
     "metadata": {},
     "output_type": "execute_result"
    },
    {
     "data": {
      "image/png": "[encoded data removed]",
      "text/plain": [
       "<Figure size 640x480 with 1 Axes>"
      ]
     },
     "metadata": {},
     "output_type": "display_data"
    }
   ],
   "source": [
    "plt.plot(day_new,h)\n",
    "plt.plot(day_pred,g)"
   ]
  },
  {
   "cell_type": "code",
   "execution_count": 71,
   "id": "a110f8e8",
   "metadata": {},
   "outputs": [
    {
     "data": {
      "text/plain": [
       "[<matplotlib.lines.Line2D at 0x1e004f8a990>]"
      ]
     },
     "execution_count": 71,
     "metadata": {},
     "output_type": "execute_result"
    },
    {
     "data": {
      "image/png": "[encoded data removed]",
      "text/plain": [
       "<Figure size 640x480 with 1 Axes>"
      ]
     },
     "metadata": {},
     "output_type": "display_data"
    }
   ],
   "source": [
    "plt.plot(df3[900:])"
   ]
  },
  {
   "cell_type": "code",
   "execution_count": 68,
   "id": "cf269c8c",
   "metadata": {},
   "outputs": [],
   "source": [
    "df3=scaler.inverse_transform(df3).tolist()"
   ]
  },
  {
   "cell_type": "code",
   "execution_count": 72,
   "id": "0a3010c8",
   "metadata": {},
   "outputs": [
    {
     "data": {
      "text/plain": [
       "[<matplotlib.lines.Line2D at 0x1e005028cd0>]"
      ]
     },
     "execution_count": 72,
     "metadata": {},
     "output_type": "execute_result"
    },
    {
     "data": {
      "image/png": "[encoded data removed]",
      "text/plain": [
       "<Figure size 640x480 with 1 Axes>"
      ]
     },
     "metadata": {},
     "output_type": "display_data"
    }
   ],
   "source": [
    "plt.plot(df3)"
   ]
  },
  {
   "cell_type": "code",
   "execution_count": null,
   "id": "65c8a370",
   "metadata": {},
   "outputs": [],
   "source": []
  },
  {
   "cell_type": "code",
   "execution_count": null,
   "id": "2252bc2c",
   "metadata": {},
   "outputs": [],
   "source": []
  }
 ],
 "metadata": {
  "kernelspec": {
   "display_name": "Python 3 (ipykernel)",
   "language": "python",
   "name": "python3"
  },
  "language_info": {
   "codemirror_mode": {
    "name": "ipython",
    "version": 3
   },
   "file_extension": ".py",
   "mimetype": "text/x-python",
   "name": "python",
   "nbconvert_exporter": "python",
   "pygments_lexer": "ipython3",
   "version": "3.11.3"
  }
 },
 "nbformat": 4,
 "nbformat_minor": 5
}
